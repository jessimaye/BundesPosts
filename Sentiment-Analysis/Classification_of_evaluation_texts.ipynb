{
 "cells": [
  {
   "cell_type": "code",
   "execution_count": 1,
   "metadata": {
    "colab": {
     "base_uri": "https://localhost:8080/"
    },
    "id": "Vg3WP1AUwHdU",
    "outputId": "1c0440b3-fee7-49fd-9182-362e912010ee"
   },
   "outputs": [
    {
     "name": "stdout",
     "output_type": "stream",
     "text": [
      "Collecting datasets\n",
      "  Downloading datasets-3.3.2-py3-none-any.whl.metadata (19 kB)\n",
      "Requirement already satisfied: transformers in /usr/local/lib/python3.11/dist-packages (4.48.3)\n",
      "Requirement already satisfied: filelock in /usr/local/lib/python3.11/dist-packages (from datasets) (3.17.0)\n",
      "Requirement already satisfied: numpy>=1.17 in /usr/local/lib/python3.11/dist-packages (from datasets) (1.26.4)\n",
      "Requirement already satisfied: pyarrow>=15.0.0 in /usr/local/lib/python3.11/dist-packages (from datasets) (17.0.0)\n",
      "Collecting dill<0.3.9,>=0.3.0 (from datasets)\n",
      "  Downloading dill-0.3.8-py3-none-any.whl.metadata (10 kB)\n",
      "Requirement already satisfied: pandas in /usr/local/lib/python3.11/dist-packages (from datasets) (2.2.2)\n",
      "Requirement already satisfied: requests>=2.32.2 in /usr/local/lib/python3.11/dist-packages (from datasets) (2.32.3)\n",
      "Requirement already satisfied: tqdm>=4.66.3 in /usr/local/lib/python3.11/dist-packages (from datasets) (4.67.1)\n",
      "Collecting xxhash (from datasets)\n",
      "  Downloading xxhash-3.5.0-cp311-cp311-manylinux_2_17_x86_64.manylinux2014_x86_64.whl.metadata (12 kB)\n",
      "Collecting multiprocess<0.70.17 (from datasets)\n",
      "  Downloading multiprocess-0.70.16-py311-none-any.whl.metadata (7.2 kB)\n",
      "Requirement already satisfied: fsspec<=2024.12.0,>=2023.1.0 in /usr/local/lib/python3.11/dist-packages (from fsspec[http]<=2024.12.0,>=2023.1.0->datasets) (2024.10.0)\n",
      "Requirement already satisfied: aiohttp in /usr/local/lib/python3.11/dist-packages (from datasets) (3.11.12)\n",
      "Requirement already satisfied: huggingface-hub>=0.24.0 in /usr/local/lib/python3.11/dist-packages (from datasets) (0.28.1)\n",
      "Requirement already satisfied: packaging in /usr/local/lib/python3.11/dist-packages (from datasets) (24.2)\n",
      "Requirement already satisfied: pyyaml>=5.1 in /usr/local/lib/python3.11/dist-packages (from datasets) (6.0.2)\n",
      "Requirement already satisfied: regex!=2019.12.17 in /usr/local/lib/python3.11/dist-packages (from transformers) (2024.11.6)\n",
      "Requirement already satisfied: tokenizers<0.22,>=0.21 in /usr/local/lib/python3.11/dist-packages (from transformers) (0.21.0)\n",
      "Requirement already satisfied: safetensors>=0.4.1 in /usr/local/lib/python3.11/dist-packages (from transformers) (0.5.2)\n",
      "Requirement already satisfied: aiohappyeyeballs>=2.3.0 in /usr/local/lib/python3.11/dist-packages (from aiohttp->datasets) (2.4.6)\n",
      "Requirement already satisfied: aiosignal>=1.1.2 in /usr/local/lib/python3.11/dist-packages (from aiohttp->datasets) (1.3.2)\n",
      "Requirement already satisfied: attrs>=17.3.0 in /usr/local/lib/python3.11/dist-packages (from aiohttp->datasets) (25.1.0)\n",
      "Requirement already satisfied: frozenlist>=1.1.1 in /usr/local/lib/python3.11/dist-packages (from aiohttp->datasets) (1.5.0)\n",
      "Requirement already satisfied: multidict<7.0,>=4.5 in /usr/local/lib/python3.11/dist-packages (from aiohttp->datasets) (6.1.0)\n",
      "Requirement already satisfied: propcache>=0.2.0 in /usr/local/lib/python3.11/dist-packages (from aiohttp->datasets) (0.2.1)\n",
      "Requirement already satisfied: yarl<2.0,>=1.17.0 in /usr/local/lib/python3.11/dist-packages (from aiohttp->datasets) (1.18.3)\n",
      "Requirement already satisfied: typing-extensions>=3.7.4.3 in /usr/local/lib/python3.11/dist-packages (from huggingface-hub>=0.24.0->datasets) (4.12.2)\n",
      "Requirement already satisfied: charset-normalizer<4,>=2 in /usr/local/lib/python3.11/dist-packages (from requests>=2.32.2->datasets) (3.4.1)\n",
      "Requirement already satisfied: idna<4,>=2.5 in /usr/local/lib/python3.11/dist-packages (from requests>=2.32.2->datasets) (3.10)\n",
      "Requirement already satisfied: urllib3<3,>=1.21.1 in /usr/local/lib/python3.11/dist-packages (from requests>=2.32.2->datasets) (2.3.0)\n",
      "Requirement already satisfied: certifi>=2017.4.17 in /usr/local/lib/python3.11/dist-packages (from requests>=2.32.2->datasets) (2025.1.31)\n",
      "Requirement already satisfied: python-dateutil>=2.8.2 in /usr/local/lib/python3.11/dist-packages (from pandas->datasets) (2.8.2)\n",
      "Requirement already satisfied: pytz>=2020.1 in /usr/local/lib/python3.11/dist-packages (from pandas->datasets) (2025.1)\n",
      "Requirement already satisfied: tzdata>=2022.7 in /usr/local/lib/python3.11/dist-packages (from pandas->datasets) (2025.1)\n",
      "Requirement already satisfied: six>=1.5 in /usr/local/lib/python3.11/dist-packages (from python-dateutil>=2.8.2->pandas->datasets) (1.17.0)\n",
      "Downloading datasets-3.3.2-py3-none-any.whl (485 kB)\n",
      "\u001b[2K   \u001b[90m━━━━━━━━━━━━━━━━━━━━━━━━━━━━━━━━━━━━━━━━\u001b[0m \u001b[32m485.4/485.4 kB\u001b[0m \u001b[31m15.2 MB/s\u001b[0m eta \u001b[36m0:00:00\u001b[0m\n",
      "\u001b[?25hDownloading dill-0.3.8-py3-none-any.whl (116 kB)\n",
      "\u001b[2K   \u001b[90m━━━━━━━━━━━━━━━━━━━━━━━━━━━━━━━━━━━━━━━━\u001b[0m \u001b[32m116.3/116.3 kB\u001b[0m \u001b[31m12.4 MB/s\u001b[0m eta \u001b[36m0:00:00\u001b[0m\n",
      "\u001b[?25hDownloading multiprocess-0.70.16-py311-none-any.whl (143 kB)\n",
      "\u001b[2K   \u001b[90m━━━━━━━━━━━━━━━━━━━━━━━━━━━━━━━━━━━━━━━━\u001b[0m \u001b[32m143.5/143.5 kB\u001b[0m \u001b[31m15.8 MB/s\u001b[0m eta \u001b[36m0:00:00\u001b[0m\n",
      "\u001b[?25hDownloading xxhash-3.5.0-cp311-cp311-manylinux_2_17_x86_64.manylinux2014_x86_64.whl (194 kB)\n",
      "\u001b[2K   \u001b[90m━━━━━━━━━━━━━━━━━━━━━━━━━━━━━━━━━━━━━━━━\u001b[0m \u001b[32m194.8/194.8 kB\u001b[0m \u001b[31m19.3 MB/s\u001b[0m eta \u001b[36m0:00:00\u001b[0m\n",
      "\u001b[?25hInstalling collected packages: xxhash, dill, multiprocess, datasets\n",
      "Successfully installed datasets-3.3.2 dill-0.3.8 multiprocess-0.70.16 xxhash-3.5.0\n"
     ]
    }
   ],
   "source": [
    "!pip install datasets transformers"
   ]
  },
  {
   "cell_type": "code",
   "execution_count": 2,
   "metadata": {
    "id": "DAqGK4rFwizz"
   },
   "outputs": [],
   "source": [
    "from datasets import load_dataset, Dataset, DatasetDict\n",
    "from transformers import AutoTokenizer, AutoModelForSequenceClassification\n",
    "import torch\n",
    "import pandas as pd\n",
    "from google.colab import files\n",
    "import shutil"
   ]
  },
  {
   "cell_type": "code",
   "execution_count": 3,
   "metadata": {
    "id": "7yaAucQexFub"
   },
   "outputs": [],
   "source": [
    "#loading the subset of 2000 posts for evaluation\n",
    "dataframe_posts = pd.read_excel(\"Evaluationsdatensatz.xlsx\")"
   ]
  },
  {
   "cell_type": "code",
   "execution_count": 4,
   "metadata": {
    "colab": {
     "base_uri": "https://localhost:8080/"
    },
    "id": "XKepnMeVxNgn",
    "outputId": "bf96680a-ed14-499e-c740-63cafa90491c"
   },
   "outputs": [
    {
     "name": "stdout",
     "output_type": "stream",
     "text": [
      "   Unnamed: 0           id                                               body  \\\n",
      "0       26492  DB8seh6tHE4  Ich habe großen Respekt davor, wenn Menschen a...   \n",
      "1      304154  BTY30m2luaB  #streetart #Frankfurt am Main. \\n#occupy #occu...   \n",
      "2       34974  C-C715BoPFa  Sigmar #Gabriel war Ministerpräsident von Nied...   \n",
      "3      528626  CbzjzXivCiX  Das ist Einsatz: Frans Timmermans ist heute zu...   \n",
      "4      299924  B_2l6BogRvd  Ausschusssitzung aus dem #Büro in #Berlin Gut...   \n",
      "\n",
      "             author_fullname                                    hashtags  \\\n",
      "0               Ricarda Lang                                         NaN   \n",
      "1        Anke Domscheit-Berg  streetart,Frankfurt,occupy,occupyfrankfurt   \n",
      "2  Julia Klöckner (she/her)  Gabriel,Atlantik-,Brücke,USA,Transatlantik   \n",
      "3            Martin Rosemann                  Verpackungsteuer,Euhandelt   \n",
      "4            Jens Zimmermann                 Büro,Berlin,Kaffeemaschine   \n",
      "\n",
      "   annotator_1  annotator_2  Unnamed: 7  Unnamed: 8  \\\n",
      "0          NaN          NaN         NaN         NaN   \n",
      "1          NaN          NaN         NaN         NaN   \n",
      "2          NaN          NaN         NaN         NaN   \n",
      "3          NaN          NaN         NaN         NaN   \n",
      "4          NaN          NaN         NaN         NaN   \n",
      "\n",
      "                           Legende Unnamed: 10  \n",
      "0  0 positiv\\n1 negativ\\n2 neutral         NaN  \n",
      "1                              NaN         NaN  \n",
      "2                            Jessi         Leo  \n",
      "3                         Arabella       Oscar  \n",
      "4                              NaN         NaN  \n"
     ]
    }
   ],
   "source": [
    "print(dataframe_posts.head())"
   ]
  },
  {
   "cell_type": "code",
   "execution_count": 5,
   "metadata": {
    "id": "RSmWjbqXxhv1"
   },
   "outputs": [],
   "source": [
    "shutil.unpack_archive(\"gbert_finetuned_twitter.zip\", \"/content/gbert_finetuned_twitter\")"
   ]
  },
  {
   "cell_type": "code",
   "execution_count": 7,
   "metadata": {
    "id": "_4UwR7Y5xjH3"
   },
   "outputs": [],
   "source": [
    "#loading GBERT1 model\n",
    "model_path_gbert1 = \"/content/gbert_finetuned_twitter\"\n",
    "tokenizer1 = AutoTokenizer.from_pretrained(model_path_gbert1)\n",
    "model1 = AutoModelForSequenceClassification.from_pretrained(model_path_gbert1)"
   ]
  },
  {
   "cell_type": "code",
   "execution_count": 8,
   "metadata": {
    "id": "Ua63tYp7yJO4"
   },
   "outputs": [],
   "source": [
    "shutil.unpack_archive(\"gbert_finetuned_twitter&germeval17.zip\", \"/content/gbert_finetuned_twitter&germeval17\")"
   ]
  },
  {
   "cell_type": "code",
   "execution_count": 9,
   "metadata": {
    "id": "5B2YFOZ-yN_p"
   },
   "outputs": [],
   "source": [
    "#loading GBERT2 model\n",
    "model_path_gbert2 = \"/content/gbert_finetuned_twitter&germeval17\"\n",
    "tokenizer2 = AutoTokenizer.from_pretrained(model_path_gbert2)\n",
    "model2 = AutoModelForSequenceClassification.from_pretrained(model_path_gbert2)"
   ]
  },
  {
   "cell_type": "code",
   "execution_count": 13,
   "metadata": {
    "id": "4niXwTjIylNF"
   },
   "outputs": [],
   "source": [
    "#determine sentiment of subset posts with both models\n",
    "def predict_sentiment(model, tokenizer, text):\n",
    "\n",
    "    if not isinstance(text, (str, list)):\n",
    "        text = str(text)\n",
    "\n",
    "    inputs = tokenizer(text, return_tensors=\"pt\", truncation=True, padding=True, max_length=128)\n",
    "\n",
    "    with torch.no_grad():\n",
    "        outputs = model(**inputs)\n",
    "\n",
    "    probabilities = torch.nn.functional.softmax(outputs.logits, dim=-1)\n",
    "    predicted_label = torch.argmax(probabilities, dim=-1).item()\n",
    "\n",
    "\n",
    "    label_mapping = {0: \"positive\", 1: \"negative\", 2: \"neutral\"}\n",
    "    return label_mapping[predicted_label]"
   ]
  },
  {
   "cell_type": "code",
   "execution_count": 14,
   "metadata": {
    "id": "lAbF_-QVy7rh"
   },
   "outputs": [],
   "source": [
    "dataframe_posts[\"GBERT1\"] = dataframe_posts[\"body\"].apply(lambda x: predict_sentiment(model1, tokenizer1, x))"
   ]
  },
  {
   "cell_type": "code",
   "execution_count": 15,
   "metadata": {
    "id": "bgtKUguwzE1T"
   },
   "outputs": [],
   "source": [
    "dataframe_posts[\"GBERT2\"] = dataframe_posts[\"body\"].apply(lambda x: predict_sentiment(model2, tokenizer2, x))"
   ]
  },
  {
   "cell_type": "code",
   "execution_count": 16,
   "metadata": {
    "colab": {
     "base_uri": "https://localhost:8080/"
    },
    "id": "KXi5Sfr4zmWV",
    "outputId": "d60199bd-0241-48d7-c743-d28d83d43df1"
   },
   "outputs": [
    {
     "name": "stdout",
     "output_type": "stream",
     "text": [
      "   Unnamed: 0           id                                               body  \\\n",
      "0       26492  DB8seh6tHE4  Ich habe großen Respekt davor, wenn Menschen a...   \n",
      "1      304154  BTY30m2luaB  #streetart #Frankfurt am Main. \\n#occupy #occu...   \n",
      "2       34974  C-C715BoPFa  Sigmar #Gabriel war Ministerpräsident von Nied...   \n",
      "3      528626  CbzjzXivCiX  Das ist Einsatz: Frans Timmermans ist heute zu...   \n",
      "4      299924  B_2l6BogRvd  Ausschusssitzung aus dem #Büro in #Berlin Gut...   \n",
      "\n",
      "             author_fullname                                    hashtags  \\\n",
      "0               Ricarda Lang                                         NaN   \n",
      "1        Anke Domscheit-Berg  streetart,Frankfurt,occupy,occupyfrankfurt   \n",
      "2  Julia Klöckner (she/her)  Gabriel,Atlantik-,Brücke,USA,Transatlantik   \n",
      "3            Martin Rosemann                  Verpackungsteuer,Euhandelt   \n",
      "4            Jens Zimmermann                 Büro,Berlin,Kaffeemaschine   \n",
      "\n",
      "   annotator_1  annotator_2  Unnamed: 7  Unnamed: 8  \\\n",
      "0          NaN          NaN         NaN         NaN   \n",
      "1          NaN          NaN         NaN         NaN   \n",
      "2          NaN          NaN         NaN         NaN   \n",
      "3          NaN          NaN         NaN         NaN   \n",
      "4          NaN          NaN         NaN         NaN   \n",
      "\n",
      "                           Legende Unnamed: 10    GBERT1    GBERT2  \n",
      "0  0 positiv\\n1 negativ\\n2 neutral         NaN  negative  negative  \n",
      "1                              NaN         NaN   neutral   neutral  \n",
      "2                            Jessi         Leo   neutral   neutral  \n",
      "3                         Arabella       Oscar   neutral   neutral  \n",
      "4                              NaN         NaN  positive  positive  \n"
     ]
    }
   ],
   "source": [
    "print(dataframe_posts.head())"
   ]
  },
  {
   "cell_type": "code",
   "execution_count": 17,
   "metadata": {
    "id": "oxORJ_6x4BJb"
   },
   "outputs": [],
   "source": [
    "#add results of labeling to dataframe, save as csv- and excel-file\n",
    "dataframe_posts.to_csv(\"Evaluationstexte_mit_Modellergebnissen.csv\", index=False)"
   ]
  },
  {
   "cell_type": "code",
   "execution_count": 18,
   "metadata": {
    "colab": {
     "base_uri": "https://localhost:8080/",
     "height": 17
    },
    "id": "XmyE1vu34ZPD",
    "outputId": "942d173d-86cd-46cc-c786-207b11a96ba1"
   },
   "outputs": [
    {
     "data": {
      "application/javascript": [
       "\n",
       "    async function download(id, filename, size) {\n",
       "      if (!google.colab.kernel.accessAllowed) {\n",
       "        return;\n",
       "      }\n",
       "      const div = document.createElement('div');\n",
       "      const label = document.createElement('label');\n",
       "      label.textContent = `Downloading \"${filename}\": `;\n",
       "      div.appendChild(label);\n",
       "      const progress = document.createElement('progress');\n",
       "      progress.max = size;\n",
       "      div.appendChild(progress);\n",
       "      document.body.appendChild(div);\n",
       "\n",
       "      const buffers = [];\n",
       "      let downloaded = 0;\n",
       "\n",
       "      const channel = await google.colab.kernel.comms.open(id);\n",
       "      // Send a message to notify the kernel that we're ready.\n",
       "      channel.send({})\n",
       "\n",
       "      for await (const message of channel.messages) {\n",
       "        // Send a message to notify the kernel that we're ready.\n",
       "        channel.send({})\n",
       "        if (message.buffers) {\n",
       "          for (const buffer of message.buffers) {\n",
       "            buffers.push(buffer);\n",
       "            downloaded += buffer.byteLength;\n",
       "            progress.value = downloaded;\n",
       "          }\n",
       "        }\n",
       "      }\n",
       "      const blob = new Blob(buffers, {type: 'application/binary'});\n",
       "      const a = document.createElement('a');\n",
       "      a.href = window.URL.createObjectURL(blob);\n",
       "      a.download = filename;\n",
       "      div.appendChild(a);\n",
       "      a.click();\n",
       "      div.remove();\n",
       "    }\n",
       "  "
      ],
      "text/plain": [
       "<IPython.core.display.Javascript object>"
      ]
     },
     "metadata": {},
     "output_type": "display_data"
    },
    {
     "data": {
      "application/javascript": [
       "download(\"download_01f5edb5-8c27-475f-a34d-019f25e165f8\", \"Evaluationstexte_mit_Modellergebnissen.csv\", 1377331)"
      ],
      "text/plain": [
       "<IPython.core.display.Javascript object>"
      ]
     },
     "metadata": {},
     "output_type": "display_data"
    }
   ],
   "source": [
    "files.download(\"Evaluationstexte_mit_Modellergebnissen.csv\")"
   ]
  },
  {
   "cell_type": "code",
   "execution_count": 19,
   "metadata": {
    "colab": {
     "base_uri": "https://localhost:8080/"
    },
    "id": "fO4WQRuT4_GN",
    "outputId": "840c9e7e-4c85-41cd-d498-ff7b88de7daf"
   },
   "outputs": [
    {
     "name": "stdout",
     "output_type": "stream",
     "text": [
      "Requirement already satisfied: openpyxl in /usr/local/lib/python3.11/dist-packages (3.1.5)\n",
      "Requirement already satisfied: et-xmlfile in /usr/local/lib/python3.11/dist-packages (from openpyxl) (2.0.0)\n"
     ]
    }
   ],
   "source": [
    "pip install openpyxl"
   ]
  },
  {
   "cell_type": "code",
   "execution_count": 22,
   "metadata": {
    "id": "gEyIf2dM5EBB"
   },
   "outputs": [],
   "source": [
    "dataframe_posts.to_excel(\"Evaluationstexte_mit_Modellergebnissen.xlsx\", index=False, engine=\"openpyxl\")"
   ]
  },
  {
   "cell_type": "code",
   "execution_count": 23,
   "metadata": {
    "colab": {
     "base_uri": "https://localhost:8080/",
     "height": 17
    },
    "id": "QJJ4Iq9L5K9l",
    "outputId": "7407001e-9820-4b96-e197-1f2f21b6454b"
   },
   "outputs": [
    {
     "data": {
      "application/javascript": [
       "\n",
       "    async function download(id, filename, size) {\n",
       "      if (!google.colab.kernel.accessAllowed) {\n",
       "        return;\n",
       "      }\n",
       "      const div = document.createElement('div');\n",
       "      const label = document.createElement('label');\n",
       "      label.textContent = `Downloading \"${filename}\": `;\n",
       "      div.appendChild(label);\n",
       "      const progress = document.createElement('progress');\n",
       "      progress.max = size;\n",
       "      div.appendChild(progress);\n",
       "      document.body.appendChild(div);\n",
       "\n",
       "      const buffers = [];\n",
       "      let downloaded = 0;\n",
       "\n",
       "      const channel = await google.colab.kernel.comms.open(id);\n",
       "      // Send a message to notify the kernel that we're ready.\n",
       "      channel.send({})\n",
       "\n",
       "      for await (const message of channel.messages) {\n",
       "        // Send a message to notify the kernel that we're ready.\n",
       "        channel.send({})\n",
       "        if (message.buffers) {\n",
       "          for (const buffer of message.buffers) {\n",
       "            buffers.push(buffer);\n",
       "            downloaded += buffer.byteLength;\n",
       "            progress.value = downloaded;\n",
       "          }\n",
       "        }\n",
       "      }\n",
       "      const blob = new Blob(buffers, {type: 'application/binary'});\n",
       "      const a = document.createElement('a');\n",
       "      a.href = window.URL.createObjectURL(blob);\n",
       "      a.download = filename;\n",
       "      div.appendChild(a);\n",
       "      a.click();\n",
       "      div.remove();\n",
       "    }\n",
       "  "
      ],
      "text/plain": [
       "<IPython.core.display.Javascript object>"
      ]
     },
     "metadata": {},
     "output_type": "display_data"
    },
    {
     "data": {
      "application/javascript": [
       "download(\"download_b4a77587-730f-4ed9-be37-95e9625a66e0\", \"Evaluationstexte_mit_Modellergebnissen.xlsx\", 719961)"
      ],
      "text/plain": [
       "<IPython.core.display.Javascript object>"
      ]
     },
     "metadata": {},
     "output_type": "display_data"
    }
   ],
   "source": [
    "files.download(\"Evaluationstexte_mit_Modellergebnissen.xlsx\")"
   ]
  }
 ],
 "metadata": {
  "accelerator": "GPU",
  "colab": {
   "gpuType": "T4",
   "provenance": []
  },
  "kernelspec": {
   "display_name": "Python [conda env:base] *",
   "language": "python",
   "name": "conda-base-py"
  },
  "language_info": {
   "codemirror_mode": {
    "name": "ipython",
    "version": 3
   },
   "file_extension": ".py",
   "mimetype": "text/x-python",
   "name": "python",
   "nbconvert_exporter": "python",
   "pygments_lexer": "ipython3",
   "version": "3.11.5"
  }
 },
 "nbformat": 4,
 "nbformat_minor": 4
}
