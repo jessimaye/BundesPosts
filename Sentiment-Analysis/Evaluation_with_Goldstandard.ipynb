{
 "cells": [
  {
   "cell_type": "code",
   "execution_count": 1,
   "metadata": {
    "colab": {
     "base_uri": "https://localhost:8080/"
    },
    "id": "U3a_q4DvB9jh",
    "outputId": "acf85a9e-5a65-4d82-8ba5-0877985f3b09"
   },
   "outputs": [
    {
     "name": "stdout",
     "output_type": "stream",
     "text": [
      "Collecting krippendorff\n",
      "  Downloading krippendorff-0.8.1-py3-none-any.whl.metadata (3.0 kB)\n",
      "Requirement already satisfied: numpy<3,>=1.21 in /usr/local/lib/python3.11/dist-packages (from krippendorff) (1.26.4)\n",
      "Downloading krippendorff-0.8.1-py3-none-any.whl (18 kB)\n",
      "Installing collected packages: krippendorff\n",
      "Successfully installed krippendorff-0.8.1\n"
     ]
    }
   ],
   "source": [
    "pip install krippendorff"
   ]
  },
  {
   "cell_type": "code",
   "execution_count": 1,
   "metadata": {
    "id": "C6PmtWh7CVPG"
   },
   "outputs": [],
   "source": [
    "import pandas as pd\n",
    "import krippendorff"
   ]
  },
  {
   "cell_type": "code",
   "execution_count": 3,
   "metadata": {
    "id": "YcFjSWsKCbhr"
   },
   "outputs": [],
   "source": [
    "dataframe_posts = pd.read_excel(\"Evaluationsdatensatz-3.xlsx\")"
   ]
  },
  {
   "cell_type": "code",
   "execution_count": 5,
   "metadata": {
    "id": "yd29El9SNSZF"
   },
   "outputs": [],
   "source": [
    "#subset, that was labeled by annotator 1 and 2 \n",
    "dataframe_posts_IAA1 = dataframe_posts.iloc[0:1001]"
   ]
  },
  {
   "cell_type": "code",
   "execution_count": 7,
   "metadata": {
    "id": "fpKZJOY7NQny"
   },
   "outputs": [],
   "source": [
    "#subset, that was labeled by annotator 3 and 4 \n",
    "dataframe_posts_IAA2 = dataframe_posts.iloc[1002:2001]"
   ]
  },
  {
   "cell_type": "code",
   "execution_count": 9,
   "metadata": {
    "id": "kuqXoXHfOLvL"
   },
   "outputs": [],
   "source": [
    "#rename labels\n",
    "label_mapping = {1: -1, 2: 0, 0: 1}"
   ]
  },
  {
   "cell_type": "code",
   "execution_count": 11,
   "metadata": {
    "colab": {
     "base_uri": "https://localhost:8080/"
    },
    "id": "CsOu9pPWORud",
    "outputId": "a8bca4e6-2f40-4a5d-e026-f017f7329286"
   },
   "outputs": [
    {
     "name": "stderr",
     "output_type": "stream",
     "text": [
      "/var/folders/z1/3s4_jtgd0lqbv7pqjl15y96h0000gn/T/ipykernel_95873/3287278601.py:1: SettingWithCopyWarning: \n",
      "A value is trying to be set on a copy of a slice from a DataFrame.\n",
      "Try using .loc[row_indexer,col_indexer] = value instead\n",
      "\n",
      "See the caveats in the documentation: https://pandas.pydata.org/pandas-docs/stable/user_guide/indexing.html#returning-a-view-versus-a-copy\n",
      "  dataframe_posts_IAA1[[\"annotator_1\", \"annotator_2\"]] = dataframe_posts[[\"annotator_1\", \"annotator_2\"]].applymap(label_mapping.get)\n"
     ]
    }
   ],
   "source": [
    "dataframe_posts_IAA1[[\"annotator_1\", \"annotator_2\"]] = dataframe_posts[[\"annotator_1\", \"annotator_2\"]].applymap(label_mapping.get)"
   ]
  },
  {
   "cell_type": "code",
   "execution_count": 13,
   "metadata": {
    "colab": {
     "base_uri": "https://localhost:8080/"
    },
    "id": "uLmH4NZ4OVmo",
    "outputId": "5465c3bd-8659-4b25-a409-838d482cecc6"
   },
   "outputs": [
    {
     "name": "stderr",
     "output_type": "stream",
     "text": [
      "/var/folders/z1/3s4_jtgd0lqbv7pqjl15y96h0000gn/T/ipykernel_95873/4269693341.py:1: SettingWithCopyWarning: \n",
      "A value is trying to be set on a copy of a slice from a DataFrame.\n",
      "Try using .loc[row_indexer,col_indexer] = value instead\n",
      "\n",
      "See the caveats in the documentation: https://pandas.pydata.org/pandas-docs/stable/user_guide/indexing.html#returning-a-view-versus-a-copy\n",
      "  dataframe_posts_IAA2[[\"annotator_1\", \"annotator_2\"]] = dataframe_posts[[\"annotator_1\", \"annotator_2\"]].applymap(label_mapping.get)\n"
     ]
    }
   ],
   "source": [
    "dataframe_posts_IAA2[[\"annotator_1\", \"annotator_2\"]] = dataframe_posts[[\"annotator_1\", \"annotator_2\"]].applymap(label_mapping.get)"
   ]
  },
  {
   "cell_type": "code",
   "execution_count": 15,
   "metadata": {
    "colab": {
     "base_uri": "https://localhost:8080/"
    },
    "id": "2vlJHxzOOyf0",
    "outputId": "ef88b8c5-cfa7-4647-cc68-460ed632f1a3"
   },
   "outputs": [
    {
     "name": "stdout",
     "output_type": "stream",
     "text": [
      "   Unnamed: 0           id                                               body  \\\n",
      "0       26492  DB8seh6tHE4  Ich habe großen Respekt davor, wenn Menschen a...   \n",
      "1      304154  BTY30m2luaB  #streetart #Frankfurt am Main. \\n#occupy #occu...   \n",
      "2       34974  C-C715BoPFa  Sigmar #Gabriel war Ministerpräsident von Nied...   \n",
      "3      528626  CbzjzXivCiX  Das ist Einsatz: Frans Timmermans ist heute zu...   \n",
      "4      299924  B_2l6BogRvd  Ausschusssitzung aus dem #Büro in #Berlin Gut...   \n",
      "\n",
      "             author_fullname                                    hashtags  \\\n",
      "0               Ricarda Lang                                Ricarda Lang   \n",
      "1        Anke Domscheit-Berg  streetart,Frankfurt,occupy,occupyfrankfurt   \n",
      "2  Julia Klöckner (she/her)  Gabriel,Atlantik-,Brücke,USA,Transatlantik   \n",
      "3            Martin Rosemann                  Verpackungsteuer,Euhandelt   \n",
      "4            Jens Zimmermann                 Büro,Berlin,Kaffeemaschine   \n",
      "\n",
      "   annotator_1  annotator_2  ÜBEREINSTIMUNGEN  Unnamed: 8  \\\n",
      "0           -1         -1.0                 1         NaN   \n",
      "1            0          0.0                 2         NaN   \n",
      "2            0          0.0                 2         NaN   \n",
      "3            1          1.0                 0         NaN   \n",
      "4            1          1.0                 0         NaN   \n",
      "\n",
      "                           Legende Unnamed: 10  \n",
      "0  0 positiv\\n1 negativ\\n2 neutral         NaN  \n",
      "1                              NaN         NaN  \n",
      "2                            Jessi         Leo  \n",
      "3                         Arabella       Oscar  \n",
      "4                              NaN         NaN  \n"
     ]
    }
   ],
   "source": [
    "print(dataframe_posts_IAA1.head())"
   ]
  },
  {
   "cell_type": "code",
   "execution_count": 17,
   "metadata": {
    "colab": {
     "base_uri": "https://localhost:8080/"
    },
    "id": "xAaJSMjuFA7c",
    "outputId": "f87a6740-ed45-4a6f-8f8c-71d4edb1c703"
   },
   "outputs": [
    {
     "name": "stdout",
     "output_type": "stream",
     "text": [
      "      Unnamed: 0           id  \\\n",
      "1002      478678  BzIgS5nIO56   \n",
      "1003      456310  Cvz-KAmtX-N   \n",
      "1004      288514  BXBX1axA09e   \n",
      "1005      264186  CJ56wpEA8MM   \n",
      "1006      460137  C6ty6tktfB5   \n",
      "\n",
      "                                                   body       author_fullname  \\\n",
      "1002  ‪Sitzungsplan Plenum #bundestag für die Woche ...        Detlef Müller   \n",
      "1003  Im Rahmen meiner Gesundheitswoche im Unstrut-H...          Tina Rudolph   \n",
      "1004  Mit unserem Parteichef Horst Seehofer beim Bez...        Volker Ullrich   \n",
      "1005  Willkommen im Überwachungsstaat nach chinesisc...  Norbert Kleinwächter   \n",
      "1006  Kommunalwahlkampf in Schwerin: Tag für Tag sin...        Leif-Erik Holm   \n",
      "\n",
      "                                               hashtags  annotator_1  \\\n",
      "1002                                          bundestag            0   \n",
      "1003  mühlhausen,mhl,muehlhausen,uhk,unstruthainichk...            0   \n",
      "1004                                       CSU,Augsburg            1   \n",
      "1005  Handy,Bußgeld,Corona-Einschränkungen,Freiheit,...           -1   \n",
      "1006                                                NaN            0   \n",
      "\n",
      "      annotator_2  ÜBEREINSTIMUNGEN  Unnamed: 8 Legende Unnamed: 10  \n",
      "1002          0.0                 2         NaN     NaN         NaN  \n",
      "1003          0.0                 2         NaN     NaN         NaN  \n",
      "1004          1.0                 0         NaN     NaN         NaN  \n",
      "1005         -1.0                 1         NaN     NaN         NaN  \n",
      "1006          0.0                 2         NaN     NaN         NaN  \n"
     ]
    }
   ],
   "source": [
    "print(dataframe_posts_IAA2.head())"
   ]
  },
  {
   "cell_type": "code",
   "execution_count": 19,
   "metadata": {
    "id": "qo_gLefzO6Dr"
   },
   "outputs": [],
   "source": [
    "ratings = dataframe_posts_IAA1[[\"annotator_1\", \"annotator_2\"]].T.values"
   ]
  },
  {
   "cell_type": "code",
   "execution_count": 21,
   "metadata": {
    "id": "WAMzvTmSPSVD"
   },
   "outputs": [],
   "source": [
    "alpha = krippendorff.alpha(reliability_data=ratings, level_of_measurement=\"nominal\")"
   ]
  },
  {
   "cell_type": "code",
   "execution_count": 23,
   "metadata": {
    "colab": {
     "base_uri": "https://localhost:8080/"
    },
    "id": "Z8hO01gCPJiC",
    "outputId": "cb63dc04-0e74-457e-9f63-7c87dfcb46a0"
   },
   "outputs": [
    {
     "name": "stdout",
     "output_type": "stream",
     "text": [
      "Krippendorffs Alpha between Annotator 1 and 2: 0.820\n"
     ]
    }
   ],
   "source": [
    "print(f\"Krippendorffs Alpha between Annotator 1 and 2: {alpha:.3f}\")"
   ]
  },
  {
   "cell_type": "code",
   "execution_count": 25,
   "metadata": {
    "id": "GDsMBnufFUzS"
   },
   "outputs": [],
   "source": [
    "ratings = dataframe_posts_IAA2[[\"annotator_1\", \"annotator_2\"]].T.values"
   ]
  },
  {
   "cell_type": "code",
   "execution_count": 27,
   "metadata": {
    "id": "MzTVUy44FagJ"
   },
   "outputs": [],
   "source": [
    "alpha = krippendorff.alpha(reliability_data=ratings, level_of_measurement=\"nominal\")"
   ]
  },
  {
   "cell_type": "code",
   "execution_count": 29,
   "metadata": {
    "colab": {
     "base_uri": "https://localhost:8080/"
    },
    "id": "JU_35vEfFfTt",
    "outputId": "7fa15f0b-4279-4c6a-8251-09f55ad5ab4d"
   },
   "outputs": [
    {
     "name": "stdout",
     "output_type": "stream",
     "text": [
      "Krippendorffs Alpha between Annotator 3 and 4: 0.912\n"
     ]
    }
   ],
   "source": [
    "print(f\"Krippendorffs Alpha between Annotator 3 and 4: {alpha:.3f}\")"
   ]
  },
  {
   "cell_type": "code",
   "execution_count": null,
   "metadata": {
    "id": "zHynpWloJGC7"
   },
   "outputs": [],
   "source": [
    "#Comparison of model outputs with gold standard"
   ]
  },
  {
   "cell_type": "code",
   "execution_count": 31,
   "metadata": {
    "id": "Ion-3l3MJIyv"
   },
   "outputs": [],
   "source": [
    "from sklearn.metrics import accuracy_score, classification_report, confusion_matrix\n",
    "import seaborn as sns\n",
    "import matplotlib.pyplot as plt"
   ]
  },
  {
   "cell_type": "code",
   "execution_count": 33,
   "metadata": {
    "id": "Bi1pWqnYPwTy"
   },
   "outputs": [],
   "source": [
    "dataframe_goldstandard = pd.read_excel(\"Evaluationsdatensatz-3.xlsx\")"
   ]
  },
  {
   "cell_type": "code",
   "execution_count": 35,
   "metadata": {
    "id": "2aZn9Ym6KqCC"
   },
   "outputs": [],
   "source": [
    "dataframe_model_outputs = pd.read_excel(\"Evaluationstexte_mit_Modellergebnissen.xlsx\")"
   ]
  },
  {
   "cell_type": "code",
   "execution_count": 37,
   "metadata": {
    "id": "kiUJDAziMFMC"
   },
   "outputs": [],
   "source": [
    "label_mapping = {1:\"negative\", 0:\"positive\", 2:\"neutral\"}"
   ]
  },
  {
   "cell_type": "code",
   "execution_count": 39,
   "metadata": {
    "colab": {
     "base_uri": "https://localhost:8080/"
    },
    "id": "zMopIiZvHcmi",
    "outputId": "57e72aec-1950-4e39-faf5-5f40f2f8416a"
   },
   "outputs": [
    {
     "name": "stdout",
     "output_type": "stream",
     "text": [
      "   Unnamed: 0           id                                               body  \\\n",
      "0       26492  DB8seh6tHE4  Ich habe großen Respekt davor, wenn Menschen a...   \n",
      "1      304154  BTY30m2luaB  #streetart #Frankfurt am Main. \\n#occupy #occu...   \n",
      "2       34974  C-C715BoPFa  Sigmar #Gabriel war Ministerpräsident von Nied...   \n",
      "3      528626  CbzjzXivCiX  Das ist Einsatz: Frans Timmermans ist heute zu...   \n",
      "4      299924  B_2l6BogRvd  Ausschusssitzung aus dem #Büro in #Berlin Gut...   \n",
      "\n",
      "             author_fullname                                    hashtags  \\\n",
      "0               Ricarda Lang                                Ricarda Lang   \n",
      "1        Anke Domscheit-Berg  streetart,Frankfurt,occupy,occupyfrankfurt   \n",
      "2  Julia Klöckner (she/her)  Gabriel,Atlantik-,Brücke,USA,Transatlantik   \n",
      "3            Martin Rosemann                  Verpackungsteuer,Euhandelt   \n",
      "4            Jens Zimmermann                 Büro,Berlin,Kaffeemaschine   \n",
      "\n",
      "   annotator_1  annotator_2  ÜBEREINSTIMUNGEN  Unnamed: 8  \\\n",
      "0            1          1.0                 1         NaN   \n",
      "1            2          2.0                 2         NaN   \n",
      "2            2          2.0                 2         NaN   \n",
      "3            0          0.0                 0         NaN   \n",
      "4            0          0.0                 0         NaN   \n",
      "\n",
      "                           Legende Unnamed: 10  \n",
      "0  0 positiv\\n1 negativ\\n2 neutral         NaN  \n",
      "1                              NaN         NaN  \n",
      "2                            Jessi         Leo  \n",
      "3                         Arabella       Oscar  \n",
      "4                              NaN         NaN  \n"
     ]
    }
   ],
   "source": [
    "print(dataframe_goldstandard.head())"
   ]
  },
  {
   "cell_type": "code",
   "execution_count": 41,
   "metadata": {
    "colab": {
     "base_uri": "https://localhost:8080/"
    },
    "id": "ZdDqpZqQMRPF",
    "outputId": "87e536f9-97af-4609-baf8-aeb596e85f72"
   },
   "outputs": [],
   "source": [
    "dataframe_goldstandard[[\"ÜBEREINSTIMUNGEN\"]] = dataframe_goldstandard[[\"ÜBEREINSTIMUNGEN\"]].applymap(label_mapping.get)"
   ]
  },
  {
   "cell_type": "code",
   "execution_count": 43,
   "metadata": {
    "colab": {
     "base_uri": "https://localhost:8080/"
    },
    "id": "bkAKeP3PKy0w",
    "outputId": "755915f2-e459-448d-dffe-355673192f7f"
   },
   "outputs": [
    {
     "name": "stdout",
     "output_type": "stream",
     "text": [
      "   Unnamed: 0           id                                               body  \\\n",
      "0       26492  DB8seh6tHE4  Ich habe großen Respekt davor, wenn Menschen a...   \n",
      "1      304154  BTY30m2luaB  #streetart #Frankfurt am Main. \\n#occupy #occu...   \n",
      "2       34974  C-C715BoPFa  Sigmar #Gabriel war Ministerpräsident von Nied...   \n",
      "3      528626  CbzjzXivCiX  Das ist Einsatz: Frans Timmermans ist heute zu...   \n",
      "4      299924  B_2l6BogRvd  Ausschusssitzung aus dem #Büro in #Berlin Gut...   \n",
      "\n",
      "             author_fullname                                    hashtags  \\\n",
      "0               Ricarda Lang                                         NaN   \n",
      "1        Anke Domscheit-Berg  streetart,Frankfurt,occupy,occupyfrankfurt   \n",
      "2  Julia Klöckner (she/her)  Gabriel,Atlantik-,Brücke,USA,Transatlantik   \n",
      "3            Martin Rosemann                  Verpackungsteuer,Euhandelt   \n",
      "4            Jens Zimmermann                 Büro,Berlin,Kaffeemaschine   \n",
      "\n",
      "   annotator_1  annotator_2  Unnamed: 7  Unnamed: 8  \\\n",
      "0          NaN          NaN         NaN         NaN   \n",
      "1          NaN          NaN         NaN         NaN   \n",
      "2          NaN          NaN         NaN         NaN   \n",
      "3          NaN          NaN         NaN         NaN   \n",
      "4          NaN          NaN         NaN         NaN   \n",
      "\n",
      "                           Legende Unnamed: 10    GBERT1    GBERT2  \n",
      "0  0 positiv\\n1 negativ\\n2 neutral         NaN  negative  negative  \n",
      "1                              NaN         NaN   neutral   neutral  \n",
      "2                            Jessi         Leo   neutral   neutral  \n",
      "3                         Arabella       Oscar   neutral   neutral  \n",
      "4                              NaN         NaN  positive  positive  \n"
     ]
    }
   ],
   "source": [
    "print(dataframe_model_outputs.head())"
   ]
  },
  {
   "cell_type": "code",
   "execution_count": 45,
   "metadata": {
    "id": "bW9623jiK8tk"
   },
   "outputs": [],
   "source": [
    "dataframe_evaluation = dataframe_goldstandard.merge(dataframe_model_outputs, on=\"id\", how=\"left\", suffixes=(\"\", \"_modell\"))"
   ]
  },
  {
   "cell_type": "code",
   "execution_count": 47,
   "metadata": {
    "colab": {
     "base_uri": "https://localhost:8080/"
    },
    "id": "IIJPcYr2LaMe",
    "outputId": "0c39c7fb-de18-469e-91f7-55acfea9d83e"
   },
   "outputs": [
    {
     "name": "stdout",
     "output_type": "stream",
     "text": [
      "   Unnamed: 0           id                                               body  \\\n",
      "0       26492  DB8seh6tHE4  Ich habe großen Respekt davor, wenn Menschen a...   \n",
      "1      304154  BTY30m2luaB  #streetart #Frankfurt am Main. \\n#occupy #occu...   \n",
      "2       34974  C-C715BoPFa  Sigmar #Gabriel war Ministerpräsident von Nied...   \n",
      "3      528626  CbzjzXivCiX  Das ist Einsatz: Frans Timmermans ist heute zu...   \n",
      "4      299924  B_2l6BogRvd  Ausschusssitzung aus dem #Büro in #Berlin Gut...   \n",
      "\n",
      "             author_fullname                                    hashtags  \\\n",
      "0               Ricarda Lang                                Ricarda Lang   \n",
      "1        Anke Domscheit-Berg  streetart,Frankfurt,occupy,occupyfrankfurt   \n",
      "2  Julia Klöckner (she/her)  Gabriel,Atlantik-,Brücke,USA,Transatlantik   \n",
      "3            Martin Rosemann                  Verpackungsteuer,Euhandelt   \n",
      "4            Jens Zimmermann                 Büro,Berlin,Kaffeemaschine   \n",
      "\n",
      "   annotator_1  annotator_2 ÜBEREINSTIMUNGEN  Unnamed: 8  \\\n",
      "0            1          1.0         negative         NaN   \n",
      "1            2          2.0          neutral         NaN   \n",
      "2            2          2.0          neutral         NaN   \n",
      "3            0          0.0         positive         NaN   \n",
      "4            0          0.0         positive         NaN   \n",
      "\n",
      "                           Legende  ...     author_fullname_modell  \\\n",
      "0  0 positiv\\n1 negativ\\n2 neutral  ...               Ricarda Lang   \n",
      "1                              NaN  ...        Anke Domscheit-Berg   \n",
      "2                            Jessi  ...  Julia Klöckner (she/her)   \n",
      "3                         Arabella  ...            Martin Rosemann   \n",
      "4                              NaN  ...            Jens Zimmermann   \n",
      "\n",
      "                              hashtags_modell annotator_1_modell  \\\n",
      "0                                         NaN                NaN   \n",
      "1  streetart,Frankfurt,occupy,occupyfrankfurt                NaN   \n",
      "2  Gabriel,Atlantik-,Brücke,USA,Transatlantik                NaN   \n",
      "3                  Verpackungsteuer,Euhandelt                NaN   \n",
      "4                 Büro,Berlin,Kaffeemaschine                NaN   \n",
      "\n",
      "  annotator_2_modell Unnamed: 7  Unnamed: 8_modell  \\\n",
      "0                NaN        NaN                NaN   \n",
      "1                NaN        NaN                NaN   \n",
      "2                NaN        NaN                NaN   \n",
      "3                NaN        NaN                NaN   \n",
      "4                NaN        NaN                NaN   \n",
      "\n",
      "                    Legende_modell  Unnamed: 10_modell    GBERT1    GBERT2  \n",
      "0  0 positiv\\n1 negativ\\n2 neutral                 NaN  negative  negative  \n",
      "1                              NaN                 NaN   neutral   neutral  \n",
      "2                            Jessi                 Leo   neutral   neutral  \n",
      "3                         Arabella               Oscar   neutral   neutral  \n",
      "4                              NaN                 NaN  positive  positive  \n",
      "\n",
      "[5 rows x 23 columns]\n"
     ]
    }
   ],
   "source": [
    "print(dataframe_evaluation.head())"
   ]
  },
  {
   "cell_type": "code",
   "execution_count": 49,
   "metadata": {
    "id": "gb6gQHphLwVa"
   },
   "outputs": [],
   "source": [
    "dataframe_evaluation = dataframe_evaluation.drop(columns=[col for col in dataframe_evaluation.columns if col.endswith(\"_modell\")])"
   ]
  },
  {
   "cell_type": "code",
   "execution_count": 51,
   "metadata": {
    "colab": {
     "base_uri": "https://localhost:8080/"
    },
    "id": "k02dMI2RL5xj",
    "outputId": "b56b15e8-fc85-476f-99c0-38999038b31e"
   },
   "outputs": [
    {
     "name": "stdout",
     "output_type": "stream",
     "text": [
      "   Unnamed: 0           id                                               body  \\\n",
      "0       26492  DB8seh6tHE4  Ich habe großen Respekt davor, wenn Menschen a...   \n",
      "1      304154  BTY30m2luaB  #streetart #Frankfurt am Main. \\n#occupy #occu...   \n",
      "2       34974  C-C715BoPFa  Sigmar #Gabriel war Ministerpräsident von Nied...   \n",
      "3      528626  CbzjzXivCiX  Das ist Einsatz: Frans Timmermans ist heute zu...   \n",
      "4      299924  B_2l6BogRvd  Ausschusssitzung aus dem #Büro in #Berlin Gut...   \n",
      "\n",
      "             author_fullname                                    hashtags  \\\n",
      "0               Ricarda Lang                                Ricarda Lang   \n",
      "1        Anke Domscheit-Berg  streetart,Frankfurt,occupy,occupyfrankfurt   \n",
      "2  Julia Klöckner (she/her)  Gabriel,Atlantik-,Brücke,USA,Transatlantik   \n",
      "3            Martin Rosemann                  Verpackungsteuer,Euhandelt   \n",
      "4            Jens Zimmermann                 Büro,Berlin,Kaffeemaschine   \n",
      "\n",
      "   annotator_1  annotator_2 ÜBEREINSTIMUNGEN  Unnamed: 8  \\\n",
      "0            1          1.0         negative         NaN   \n",
      "1            2          2.0          neutral         NaN   \n",
      "2            2          2.0          neutral         NaN   \n",
      "3            0          0.0         positive         NaN   \n",
      "4            0          0.0         positive         NaN   \n",
      "\n",
      "                           Legende Unnamed: 10  Unnamed: 7    GBERT1    GBERT2  \n",
      "0  0 positiv\\n1 negativ\\n2 neutral         NaN         NaN  negative  negative  \n",
      "1                              NaN         NaN         NaN   neutral   neutral  \n",
      "2                            Jessi         Leo         NaN   neutral   neutral  \n",
      "3                         Arabella       Oscar         NaN   neutral   neutral  \n",
      "4                              NaN         NaN         NaN  positive  positive  \n"
     ]
    }
   ],
   "source": [
    "print(dataframe_evaluation.head())"
   ]
  },
  {
   "cell_type": "code",
   "execution_count": 53,
   "metadata": {
    "colab": {
     "base_uri": "https://localhost:8080/",
     "height": 372
    },
    "id": "20b6kFE2seuU",
    "outputId": "6b6ad714-cbb7-4bad-f52a-a1881256f357"
   },
   "outputs": [
    {
     "data": {
      "image/png": "[encoded data removed]",
      "text/plain": [
       "<Figure size 1200x500 with 4 Axes>"
      ]
     },
     "metadata": {},
     "output_type": "display_data"
    }
   ],
   "source": [
    "\n",
    "cm1 = confusion_matrix(dataframe_evaluation[\"ÜBEREINSTIMUNGEN\"], dataframe_evaluation[\"GBERT1\"])\n",
    "cm2 = confusion_matrix(dataframe_evaluation[\"ÜBEREINSTIMUNGEN\"], dataframe_evaluation[\"GBERT2\"])\n",
    "\n",
    "labels = [\"negative\", \"neutral\", \"positive\"]\n",
    "\n",
    "fig, axes = plt.subplots(1, 2, figsize=(12, 5))\n",
    "\n",
    "sns.heatmap(cm1, annot=True, fmt=\"d\", cmap=\"Blues\", ax=axes[0], xticklabels=labels, yticklabels=labels)\n",
    "axes[0].set_title(\"Confusion-Matrix GBERT1\")\n",
    "axes[0].set_xlabel(\"Prediction\")\n",
    "axes[0].set_ylabel(\"Goldstandard\")\n",
    "\n",
    "sns.heatmap(cm2, annot=True, fmt=\"d\", cmap=\"Oranges\", ax=axes[1], xticklabels=labels, yticklabels=labels)\n",
    "axes[1].set_title(\"Confusion-Matrix GBERT2\")\n",
    "axes[1].set_xlabel(\"Prediction\")\n",
    "axes[1].set_ylabel(\"Goldstandard\")\n",
    "\n",
    "plt.show()"
   ]
  },
  {
   "cell_type": "code",
   "execution_count": 55,
   "metadata": {
    "colab": {
     "base_uri": "https://localhost:8080/"
    },
    "id": "IS_jc_3GtZh4",
    "outputId": "2ea015df-643b-49d1-cf5f-d8ab62715e8f"
   },
   "outputs": [
    {
     "name": "stdout",
     "output_type": "stream",
     "text": [
      "GBERT1:\n",
      "              precision    recall  f1-score   support\n",
      "\n",
      "    negative       0.65      0.76      0.70       285\n",
      "     neutral       0.77      0.65      0.70       973\n",
      "    positive       0.70      0.79      0.74       742\n",
      "\n",
      "    accuracy                           0.72      2000\n",
      "   macro avg       0.70      0.73      0.71      2000\n",
      "weighted avg       0.72      0.72      0.72      2000\n",
      "\n"
     ]
    }
   ],
   "source": [
    "print(\"GBERT1:\")\n",
    "print(classification_report(dataframe_evaluation[\"ÜBEREINSTIMUNGEN\"], dataframe_evaluation[\"GBERT1\"]))"
   ]
  },
  {
   "cell_type": "code",
   "execution_count": 57,
   "metadata": {
    "colab": {
     "base_uri": "https://localhost:8080/"
    },
    "id": "y3C0NNkVvDmK",
    "outputId": "07f93579-1dfd-41b2-b906-0869a0a13f5d"
   },
   "outputs": [
    {
     "name": "stdout",
     "output_type": "stream",
     "text": [
      "GBERT2:\n",
      "              precision    recall  f1-score   support\n",
      "\n",
      "    negative       0.62      0.64      0.63       285\n",
      "     neutral       0.69      0.63      0.66       973\n",
      "    positive       0.66      0.73      0.69       742\n",
      "\n",
      "    accuracy                           0.67      2000\n",
      "   macro avg       0.66      0.67      0.66      2000\n",
      "weighted avg       0.67      0.67      0.67      2000\n",
      "\n"
     ]
    }
   ],
   "source": [
    "print(\"GBERT2:\")\n",
    "print(classification_report(dataframe_evaluation[\"ÜBEREINSTIMUNGEN\"], dataframe_evaluation[\"GBERT2\"]))"
   ]
  },
  {
   "cell_type": "code",
   "execution_count": null,
   "metadata": {},
   "outputs": [],
   "source": []
  }
 ],
 "metadata": {
  "accelerator": "GPU",
  "colab": {
   "gpuType": "T4",
   "provenance": []
  },
  "kernelspec": {
   "display_name": "Python [conda env:base] *",
   "language": "python",
   "name": "conda-base-py"
  },
  "language_info": {
   "codemirror_mode": {
    "name": "ipython",
    "version": 3
   },
   "file_extension": ".py",
   "mimetype": "text/x-python",
   "name": "python",
   "nbconvert_exporter": "python",
   "pygments_lexer": "ipython3",
   "version": "3.11.5"
  }
 },
 "nbformat": 4,
 "nbformat_minor": 4
}
