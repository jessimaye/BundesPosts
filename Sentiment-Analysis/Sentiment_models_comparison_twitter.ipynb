{
 "cells": [
  {
   "cell_type": "code",
   "execution_count": 1,
   "metadata": {
    "colab": {
     "base_uri": "https://localhost:8080/"
    },
    "id": "R0cuvJxWqFIB",
    "outputId": "3a68d0a7-5544-4665-a99b-02ccc292084e"
   },
   "outputs": [
    {
     "name": "stdout",
     "output_type": "stream",
     "text": [
      "Collecting datasets\n",
      "  Downloading datasets-3.3.1-py3-none-any.whl.metadata (19 kB)\n",
      "Requirement already satisfied: transformers in /usr/local/lib/python3.11/dist-packages (4.48.3)\n",
      "Requirement already satisfied: filelock in /usr/local/lib/python3.11/dist-packages (from datasets) (3.17.0)\n",
      "Requirement already satisfied: numpy>=1.17 in /usr/local/lib/python3.11/dist-packages (from datasets) (1.26.4)\n",
      "Requirement already satisfied: pyarrow>=15.0.0 in /usr/local/lib/python3.11/dist-packages (from datasets) (17.0.0)\n",
      "Collecting dill<0.3.9,>=0.3.0 (from datasets)\n",
      "  Downloading dill-0.3.8-py3-none-any.whl.metadata (10 kB)\n",
      "Requirement already satisfied: pandas in /usr/local/lib/python3.11/dist-packages (from datasets) (2.2.2)\n",
      "Requirement already satisfied: requests>=2.32.2 in /usr/local/lib/python3.11/dist-packages (from datasets) (2.32.3)\n",
      "Requirement already satisfied: tqdm>=4.66.3 in /usr/local/lib/python3.11/dist-packages (from datasets) (4.67.1)\n",
      "Collecting xxhash (from datasets)\n",
      "  Downloading xxhash-3.5.0-cp311-cp311-manylinux_2_17_x86_64.manylinux2014_x86_64.whl.metadata (12 kB)\n",
      "Collecting multiprocess<0.70.17 (from datasets)\n",
      "  Downloading multiprocess-0.70.16-py311-none-any.whl.metadata (7.2 kB)\n",
      "Requirement already satisfied: fsspec<=2024.12.0,>=2023.1.0 in /usr/local/lib/python3.11/dist-packages (from fsspec[http]<=2024.12.0,>=2023.1.0->datasets) (2024.10.0)\n",
      "Requirement already satisfied: aiohttp in /usr/local/lib/python3.11/dist-packages (from datasets) (3.11.12)\n",
      "Requirement already satisfied: huggingface-hub>=0.24.0 in /usr/local/lib/python3.11/dist-packages (from datasets) (0.28.1)\n",
      "Requirement already satisfied: packaging in /usr/local/lib/python3.11/dist-packages (from datasets) (24.2)\n",
      "Requirement already satisfied: pyyaml>=5.1 in /usr/local/lib/python3.11/dist-packages (from datasets) (6.0.2)\n",
      "Requirement already satisfied: regex!=2019.12.17 in /usr/local/lib/python3.11/dist-packages (from transformers) (2024.11.6)\n",
      "Requirement already satisfied: tokenizers<0.22,>=0.21 in /usr/local/lib/python3.11/dist-packages (from transformers) (0.21.0)\n",
      "Requirement already satisfied: safetensors>=0.4.1 in /usr/local/lib/python3.11/dist-packages (from transformers) (0.5.2)\n",
      "Requirement already satisfied: aiohappyeyeballs>=2.3.0 in /usr/local/lib/python3.11/dist-packages (from aiohttp->datasets) (2.4.6)\n",
      "Requirement already satisfied: aiosignal>=1.1.2 in /usr/local/lib/python3.11/dist-packages (from aiohttp->datasets) (1.3.2)\n",
      "Requirement already satisfied: attrs>=17.3.0 in /usr/local/lib/python3.11/dist-packages (from aiohttp->datasets) (25.1.0)\n",
      "Requirement already satisfied: frozenlist>=1.1.1 in /usr/local/lib/python3.11/dist-packages (from aiohttp->datasets) (1.5.0)\n",
      "Requirement already satisfied: multidict<7.0,>=4.5 in /usr/local/lib/python3.11/dist-packages (from aiohttp->datasets) (6.1.0)\n",
      "Requirement already satisfied: propcache>=0.2.0 in /usr/local/lib/python3.11/dist-packages (from aiohttp->datasets) (0.2.1)\n",
      "Requirement already satisfied: yarl<2.0,>=1.17.0 in /usr/local/lib/python3.11/dist-packages (from aiohttp->datasets) (1.18.3)\n",
      "Requirement already satisfied: typing-extensions>=3.7.4.3 in /usr/local/lib/python3.11/dist-packages (from huggingface-hub>=0.24.0->datasets) (4.12.2)\n",
      "Requirement already satisfied: charset-normalizer<4,>=2 in /usr/local/lib/python3.11/dist-packages (from requests>=2.32.2->datasets) (3.4.1)\n",
      "Requirement already satisfied: idna<4,>=2.5 in /usr/local/lib/python3.11/dist-packages (from requests>=2.32.2->datasets) (3.10)\n",
      "Requirement already satisfied: urllib3<3,>=1.21.1 in /usr/local/lib/python3.11/dist-packages (from requests>=2.32.2->datasets) (2.3.0)\n",
      "Requirement already satisfied: certifi>=2017.4.17 in /usr/local/lib/python3.11/dist-packages (from requests>=2.32.2->datasets) (2025.1.31)\n",
      "Requirement already satisfied: python-dateutil>=2.8.2 in /usr/local/lib/python3.11/dist-packages (from pandas->datasets) (2.8.2)\n",
      "Requirement already satisfied: pytz>=2020.1 in /usr/local/lib/python3.11/dist-packages (from pandas->datasets) (2025.1)\n",
      "Requirement already satisfied: tzdata>=2022.7 in /usr/local/lib/python3.11/dist-packages (from pandas->datasets) (2025.1)\n",
      "Requirement already satisfied: six>=1.5 in /usr/local/lib/python3.11/dist-packages (from python-dateutil>=2.8.2->pandas->datasets) (1.17.0)\n",
      "Downloading datasets-3.3.1-py3-none-any.whl (484 kB)\n",
      "\u001b[2K   \u001b[90m━━━━━━━━━━━━━━━━━━━━━━━━━━━━━━━━━━━━━━━━\u001b[0m \u001b[32m484.9/484.9 kB\u001b[0m \u001b[31m9.0 MB/s\u001b[0m eta \u001b[36m0:00:00\u001b[0m\n",
      "\u001b[?25hDownloading dill-0.3.8-py3-none-any.whl (116 kB)\n",
      "\u001b[2K   \u001b[90m━━━━━━━━━━━━━━━━━━━━━━━━━━━━━━━━━━━━━━━━\u001b[0m \u001b[32m116.3/116.3 kB\u001b[0m \u001b[31m7.7 MB/s\u001b[0m eta \u001b[36m0:00:00\u001b[0m\n",
      "\u001b[?25hDownloading multiprocess-0.70.16-py311-none-any.whl (143 kB)\n",
      "\u001b[2K   \u001b[90m━━━━━━━━━━━━━━━━━━━━━━━━━━━━━━━━━━━━━━━━\u001b[0m \u001b[32m143.5/143.5 kB\u001b[0m \u001b[31m5.7 MB/s\u001b[0m eta \u001b[36m0:00:00\u001b[0m\n",
      "\u001b[?25hDownloading xxhash-3.5.0-cp311-cp311-manylinux_2_17_x86_64.manylinux2014_x86_64.whl (194 kB)\n",
      "\u001b[2K   \u001b[90m━━━━━━━━━━━━━━━━━━━━━━━━━━━━━━━━━━━━━━━━\u001b[0m \u001b[32m194.8/194.8 kB\u001b[0m \u001b[31m14.5 MB/s\u001b[0m eta \u001b[36m0:00:00\u001b[0m\n",
      "\u001b[?25hInstalling collected packages: xxhash, dill, multiprocess, datasets\n",
      "Successfully installed datasets-3.3.1 dill-0.3.8 multiprocess-0.70.16 xxhash-3.5.0\n"
     ]
    }
   ],
   "source": [
    "!pip install datasets transformers"
   ]
  },
  {
   "cell_type": "code",
   "execution_count": 1,
   "metadata": {
    "id": "HJTodb-6qBYf"
   },
   "outputs": [],
   "source": [
    "from datasets import load_dataset, Dataset, DatasetDict"
   ]
  },
  {
   "cell_type": "code",
   "execution_count": 3,
   "metadata": {
    "id": "RTxdmCGsq6pR"
   },
   "outputs": [],
   "source": [
    "from transformers import AutoTokenizer, AutoModelForSequenceClassification\n",
    "import torch"
   ]
  },
  {
   "cell_type": "code",
   "execution_count": 5,
   "metadata": {
    "id": "G6ibJBsnrC1v"
   },
   "outputs": [],
   "source": [
    "import pandas as pd"
   ]
  },
  {
   "cell_type": "code",
   "execution_count": 7,
   "metadata": {
    "colab": {
     "base_uri": "https://localhost:8080/",
     "height": 299,
     "referenced_widgets": [
      "ffb760d6cba141a3a4d271117989ccb3",
      "387054549a6744e28aeacb3906a15c23",
      "77c18eea0e4d42529c0b8b8c4e52726d",
      "a3e6afc4f2d946dc890e164d5976f4c2",
      "2da719e40b4b481db03a6c3ee572976d",
      "938545b24f954fa8b149b73f583f2405",
      "850dec76d4b94f53b5e3b91107afc9fe",
      "4bde3f96eb9a4a12a537fbdd7d357e80",
      "e3b13d42329148408cfb34e70c6eb69d",
      "30495f5c8b37484482896cb404842b75",
      "1215294cfcdb4927ab9f6aa12b12f7d2",
      "0db0426384834d04a49f0e3067291044",
      "64fb28fca9e94ac981f793e71c9da961",
      "bc59c001ec3b45b092649664a6488abc",
      "7a0691a9cd8b4022af09275b7cc16f0b",
      "3c79b318caac4bc19e3b4514730b8834",
      "53a32cf6c29c445a921fc68d40246761",
      "b75ba16184514f918a674f2172e2df8a",
      "e3b1b3d385cb4dc1b09ca25c2d4eabb7",
      "5837b94b6a5046368a91ac79670ed5db",
      "24dffb7a46474a8086277dd79037881f",
      "0e220ec9c68242c9aad3eef86e8cab40",
      "565b7a869e724c71a2f832bf2e95f290",
      "267a9601e916483293208cadbcbbb616",
      "bafe31adc20042ecb3e8ba2aa38f926a",
      "a2d2c1eb16ca4b62b86887c44c8e1f8a",
      "9d6da8b74b364a66965b85b18efcd1ff",
      "76baa2a1ccba40be9466689a2a4ace1e",
      "29554c0da72e4c6cab1183ee82003710",
      "efb8a6914d604395825a48a97c3f3eab",
      "e933c97614164d359afaa0bd51dea460",
      "227a97ed2bf442b8986f15f959f21049",
      "ab272914b81a475bb582c3f9657ead32",
      "1352a12c722a4077b71a76835d0ed967",
      "f2de84bbb55a4b9f87c32dd1c1ad1360",
      "b3a346d749404e98a58ff00da49ee500",
      "641a56322ed44c5d97d8f6a784b66cca",
      "dcb844887a024e3d9e6ae7b3d719b497",
      "ffc99e3d582f4d1792119d9dd85f832b",
      "406b8b10728042b2bdc3bc0f6aaa9804",
      "7edf6bf27c354444a7cc7648a4fe1847",
      "bf66f405a66e428f99ef91bf11671db8",
      "7f9aebf46cbb4f0aa26a5df9cdbb3db5",
      "92c655fa1e87452e9aa2e6400502dd1c",
      "17b92f643b284a2a8e5abfa9b9a828cf",
      "d66c8e58bba042959e58d2ef78c359d1",
      "dc19f6420e8e43b0aab60271e4aced92",
      "3046e52d855943f0838f72b3476966fe",
      "4161b5874d1e4cb394d7cf0b77253afd",
      "0241c7df3a7d41c5b2d4c47b2d7260fc",
      "f5585e0f4b1d4949b72ac34730120542",
      "f2217683b538490fb5c8ddeea345d6a5",
      "b0a59c312133433c901d940a04f78c7b",
      "b09f9a1663d8479aa90142cf69d33a14",
      "c54db820354d42cf839bae13cb555f2c"
     ]
    },
    "id": "MZMcmiNNqQ_5",
    "outputId": "3fac9243-60f0-4c0f-ace6-ccf5238d5953"
   },
   "outputs": [
    {
     "data": {
      "application/vnd.jupyter.widget-view+json": {
       "model_id": "ecb868a7178048ebaba51a5664333bf0",
       "version_major": 2,
       "version_minor": 0
      },
      "text/plain": [
       "README.md:   0%|          | 0.00/2.17k [00:00<?, ?B/s]"
      ]
     },
     "metadata": {},
     "output_type": "display_data"
    },
    {
     "data": {
      "application/vnd.jupyter.widget-view+json": {
       "model_id": "78a0f2050b7541a6aed3b1765eb413db",
       "version_major": 2,
       "version_minor": 0
      },
      "text/plain": [
       "train.parquet:   0%|          | 0.00/326k [00:00<?, ?B/s]"
      ]
     },
     "metadata": {},
     "output_type": "display_data"
    },
    {
     "data": {
      "application/vnd.jupyter.widget-view+json": {
       "model_id": "019dcf3b1a4c400c8a79cf747840de6a",
       "version_major": 2,
       "version_minor": 0
      },
      "text/plain": [
       "test.parquet:   0%|          | 0.00/81.3k [00:00<?, ?B/s]"
      ]
     },
     "metadata": {},
     "output_type": "display_data"
    },
    {
     "data": {
      "application/vnd.jupyter.widget-view+json": {
       "model_id": "18f9aea6c0c540c886cd07e2dc583404",
       "version_major": 2,
       "version_minor": 0
      },
      "text/plain": [
       "Generating train split:   0%|          | 0/1428 [00:00<?, ? examples/s]"
      ]
     },
     "metadata": {},
     "output_type": "display_data"
    },
    {
     "data": {
      "application/vnd.jupyter.widget-view+json": {
       "model_id": "ad7e2a94ce644a08a479b858dd003bb4",
       "version_major": 2,
       "version_minor": 0
      },
      "text/plain": [
       "Generating test split:   0%|          | 0/357 [00:00<?, ? examples/s]"
      ]
     },
     "metadata": {},
     "output_type": "display_data"
    }
   ],
   "source": [
    "twitter_dataset = load_dataset(\"Alienmaster/german_politicians_twitter_sentiment\")"
   ]
  },
  {
   "cell_type": "code",
   "execution_count": 9,
   "metadata": {
    "colab": {
     "base_uri": "https://localhost:8080/"
    },
    "id": "k0MAoJqzqot4",
    "outputId": "6a3a7014-1ec3-47b0-e1e3-428d710c15b2"
   },
   "outputs": [
    {
     "name": "stdout",
     "output_type": "stream",
     "text": [
      "DatasetDict({\n",
      "    train: Dataset({\n",
      "        features: ['ID', 'majority_sentiment', 'text'],\n",
      "        num_rows: 1428\n",
      "    })\n",
      "    test: Dataset({\n",
      "        features: ['ID', 'majority_sentiment', 'text'],\n",
      "        num_rows: 357\n",
      "    })\n",
      "})\n"
     ]
    }
   ],
   "source": [
    "print(twitter_dataset)"
   ]
  },
  {
   "cell_type": "code",
   "execution_count": 11,
   "metadata": {
    "id": "V2L4PWDIsDrR"
   },
   "outputs": [],
   "source": [
    "#Save true labels from the dataset\n",
    "true_labels = twitter_dataset[\"test\"][\"majority_sentiment\"]"
   ]
  },
  {
   "cell_type": "code",
   "execution_count": 13,
   "metadata": {
    "id": "Auguz4_N461B"
   },
   "outputs": [],
   "source": [
    "#rename labels for comparison\n",
    "label_mapping = {1: \"positive\", 2: \"negative\", 3: \"neutral\"}"
   ]
  },
  {
   "cell_type": "code",
   "execution_count": 15,
   "metadata": {
    "id": "ZkO3TquS5FMB"
   },
   "outputs": [],
   "source": [
    "true_labels = [label_mapping[label] for label in true_labels]"
   ]
  },
  {
   "cell_type": "code",
   "execution_count": 17,
   "metadata": {
    "id": "VQrMJ6pLsvX1"
   },
   "outputs": [],
   "source": [
    "#extract texts for evaluation\n",
    "prediction_texts = twitter_dataset[\"test\"][\"text\"]"
   ]
  },
  {
   "cell_type": "code",
   "execution_count": 19,
   "metadata": {
    "colab": {
     "base_uri": "https://localhost:8080/",
     "height": 209,
     "referenced_widgets": [
      "7b033f094b654c5e8f8c963b35678ade",
      "eede7889840947b3aae85eb12ae72e4e",
      "303fe81d7e0a4c51be32862246a96e2a",
      "93f2e9523c444c9e9570528c66612090",
      "3ccbd10e65a343e49ba0b5f1ea9e5137",
      "bd98c4fad82547d89482108030ada009",
      "8f8932045944441fa74511842abafec5",
      "11e2060b574f4230b3c210ddb321c964",
      "19cca0108e3846eead5dd84ba26fdd50",
      "ed10f08dfdde47249ff09b8c9088371a",
      "f10bed0488d34af090dfe3bfe79def1a",
      "04aec8e454314910bf6944a3e2846c15",
      "6d9713a0651648688dc7f4c153210cfc",
      "7a5ba10130b4477db1626628a730efa9",
      "13059d7c8ab14a14b1f7ff946de3d29e",
      "943ed8b03fda4aeda6a1792bd589ffdb",
      "49747fc76cad4ea6bd6f92acf4a22983",
      "01121f7016ff485bb72de110988a13ff",
      "0b1fe0620c434949880001aa1bd5800a",
      "f935c919a14c49659a3b5edaf24f65ca",
      "ed093055c7024dcf97e507985b8b6b64",
      "cfb417ab169049fcb673e333749a5f56",
      "ccc1089ae38441958741f8dfe44eedbb",
      "4e00fecddcb548e2b664c63ee7770ec3",
      "337e3756c7eb400bb9c5fc388d53a528",
      "e567d96aeb4b404984ba5ec170d4dbd1",
      "0d5fea6b902b4388984fe155ea4e7305",
      "0f0fa965bf264de0b9f37527874543de",
      "77630d4616f2440aabd65f23e4db3d14",
      "562f40b1e78e463599cb8b25fc8a5f68",
      "496a658d269346dfb0b7660488cf5788",
      "76ff0dd7667744208cf805d28d9422d3",
      "674b2ae3c26c446da9a47156600f387b",
      "601c5eee38b54a33aa3a29de3c963956",
      "009060967f2c465a8827189683b68526",
      "e05790d6f8ec45469dc6f7689a16ac0f",
      "b688860f82b54756815eff7a3e78a3b2",
      "0c547c1dd5a442209188bf21dad5d032",
      "eb384086f91d4b8ca75b48c483d7e7a2",
      "f557e06ea96d44e9bf3afb5731a0162e",
      "819eaf6fdc9a4ef7aa7110ac701436c0",
      "676b4bddb752412ea28699b7de659543",
      "bfcb56f944854366b9390ac53b1d3348",
      "d3491ffba48e49d599d9cc32b13859c0",
      "8a5253cac1c14b98a87c82533aba2fc2",
      "db2c1bc42fdc4cd6adcb821c22a0293b",
      "6c28789e4f9942489d207ddf5d975c05",
      "4d40abca8c7f4cc981c7ccf324d4b644",
      "446892c6b5034d87aa86e4e28b2a00e5",
      "8c4374e608e34afebae12c6f5b3681d4",
      "9b8f61619fd345599e12f6a559bbcfbf",
      "b4b2a10b5e2548b399da6516875e9c2e",
      "dea14c831181488880b6d795363cb2d8",
      "6939c12cb0584c37947955de07b5a5df",
      "5c0ee6a75dcb4a6d9011ee73ee020c84",
      "9223e4a3ee814cd1be157e92bcd7567d",
      "eecc37c521a54bbfa8a2091bf9e91ec4",
      "18b0094e9ec944208c567921f51b5a19",
      "3df1627b06c3481e89caf28ea5ddf90f",
      "8265c194a173462e8de7a207159845ac",
      "4d1d40c9deb144ab91cb36030435ce71",
      "5624c7919be0482abe1e03ad280d8d84",
      "f394ca59b6d6407191ac848d8d37d580",
      "fec869224be64491bd8cdfaa6b917995",
      "7bba9558ddca4a72950dc99bc3ffe2f6",
      "0d4019973f37495db368aea21b6e5f6a"
     ]
    },
    "id": "e1YSMntItPbq",
    "outputId": "367037c2-37fa-47d1-8a60-b05ef1ce9777"
   },
   "outputs": [
    {
     "name": "stderr",
     "output_type": "stream",
     "text": [
      "/Users/jessi/anaconda3/lib/python3.11/site-packages/huggingface_hub/file_download.py:1150: FutureWarning: `resume_download` is deprecated and will be removed in version 1.0.0. Downloads always resume when possible. If you want to force a new download, use `force_download=True`.\n",
      "  warnings.warn(\n",
      "/Users/jessi/anaconda3/lib/python3.11/site-packages/transformers/utils/generic.py:260: UserWarning: torch.utils._pytree._register_pytree_node is deprecated. Please use torch.utils._pytree.register_pytree_node instead.\n",
      "  torch.utils._pytree._register_pytree_node(\n",
      "/Users/jessi/anaconda3/lib/python3.11/site-packages/transformers/utils/generic.py:260: UserWarning: torch.utils._pytree._register_pytree_node is deprecated. Please use torch.utils._pytree.register_pytree_node instead.\n",
      "  torch.utils._pytree._register_pytree_node(\n"
     ]
    }
   ],
   "source": [
    "#test with first model: tabularisai/multilingual-sentiment-analysis\n",
    "#implement model to predict labels\n",
    "model_name = \"tabularisai/multilingual-sentiment-analysis\"\n",
    "tokenizer = AutoTokenizer.from_pretrained(model_name)\n",
    "model = AutoModelForSequenceClassification.from_pretrained(model_name)"
   ]
  },
  {
   "cell_type": "code",
   "execution_count": 21,
   "metadata": {
    "id": "pp7U22vZ4P4n"
   },
   "outputs": [],
   "source": [
    "def predict_sentiment(texts):\n",
    "    results = []\n",
    "    for text in texts:\n",
    "        inputs = tokenizer(text, return_tensors=\"pt\", truncation=True, padding=True, max_length=512)\n",
    "        with torch.no_grad():\n",
    "            outputs = model(**inputs)\n",
    "        probabilities = torch.nn.functional.softmax(outputs.logits, dim=-1)\n",
    "        sentiment_map = {0: \"negative\", 1: \"negative\", 2: \"neutral\", 3: \"positive\", 4: \"positive\"}\n",
    "        results.append(sentiment_map[torch.argmax(probabilities, dim=-1).item()])\n",
    "    return results"
   ]
  },
  {
   "cell_type": "code",
   "execution_count": 23,
   "metadata": {
    "id": "mOCrDAG_5p-d"
   },
   "outputs": [],
   "source": [
    "sentiments_multilingual_model = predict_sentiment(prediction_texts)"
   ]
  },
  {
   "cell_type": "code",
   "execution_count": 25,
   "metadata": {
    "id": "Rlv7noCx8ibU"
   },
   "outputs": [],
   "source": [
    "predicted_labels = sentiments_multilingual_model"
   ]
  },
  {
   "cell_type": "code",
   "execution_count": 27,
   "metadata": {
    "id": "Trs3_3Np9Y60"
   },
   "outputs": [],
   "source": [
    "from sklearn.metrics import accuracy_score, classification_report, confusion_matrix"
   ]
  },
  {
   "cell_type": "code",
   "execution_count": 29,
   "metadata": {
    "colab": {
     "base_uri": "https://localhost:8080/"
    },
    "id": "trLt1Rnu9hpp",
    "outputId": "b87b994c-37b9-4621-c67d-9bd897b0292f"
   },
   "outputs": [
    {
     "name": "stdout",
     "output_type": "stream",
     "text": [
      "Accuracy Multilingual Sentiment Analysis: 0.5266\n"
     ]
    }
   ],
   "source": [
    "#calculate evaluation metrics by comparing with the correct labels\n",
    "accuracy = accuracy_score(true_labels, predicted_labels)\n",
    "print(f\"Accuracy Multilingual Sentiment Analysis: {accuracy:.4f}\")"
   ]
  },
  {
   "cell_type": "code",
   "execution_count": 31,
   "metadata": {
    "colab": {
     "base_uri": "https://localhost:8080/"
    },
    "id": "L3_1U56j9nHn",
    "outputId": "7cf2345d-4e74-47f7-f620-a4f698d597e2"
   },
   "outputs": [
    {
     "name": "stdout",
     "output_type": "stream",
     "text": [
      "Classification report Multilingual Sentiment Analysis:\n",
      "               precision    recall  f1-score   support\n",
      "\n",
      "    negative       0.55      0.63      0.59       108\n",
      "     neutral       0.56      0.39      0.46       152\n",
      "    positive       0.47      0.62      0.54        97\n",
      "\n",
      "    accuracy                           0.53       357\n",
      "   macro avg       0.53      0.55      0.53       357\n",
      "weighted avg       0.53      0.53      0.52       357\n",
      "\n"
     ]
    }
   ],
   "source": [
    "report = classification_report(true_labels, predicted_labels)\n",
    "print(\"Classification report Multilingual Sentiment Analysis:\\n\", report)"
   ]
  },
  {
   "cell_type": "code",
   "execution_count": null,
   "metadata": {
    "id": "MhqdOFlaEBCM"
   },
   "outputs": [],
   "source": [
    "#test with second model: german-sentiment-bert\n",
    "#implement model to predict labels"
   ]
  },
  {
   "cell_type": "code",
   "execution_count": 33,
   "metadata": {
    "colab": {
     "base_uri": "https://localhost:8080/"
    },
    "id": "U0qMQ5uGDYNg",
    "outputId": "8201cd34-4fa9-4d66-9a5b-3e26682c83d0"
   },
   "outputs": [
    {
     "name": "stdout",
     "output_type": "stream",
     "text": [
      "huggingface/tokenizers: The current process just got forked, after parallelism has already been used. Disabling parallelism to avoid deadlocks...\n",
      "To disable this warning, you can either:\n",
      "\t- Avoid using `tokenizers` before the fork if possible\n",
      "\t- Explicitly set the environment variable TOKENIZERS_PARALLELISM=(true | false)\n",
      "Requirement already satisfied: germansentiment in /Users/jessi/anaconda3/lib/python3.11/site-packages (1.1.0)\n",
      "Requirement already satisfied: torch>=1.8.1 in /Users/jessi/anaconda3/lib/python3.11/site-packages (from germansentiment) (2.3.0)\n",
      "Requirement already satisfied: transformers in /Users/jessi/anaconda3/lib/python3.11/site-packages (from germansentiment) (4.32.1)\n",
      "Requirement already satisfied: filelock in /Users/jessi/anaconda3/lib/python3.11/site-packages (from torch>=1.8.1->germansentiment) (3.9.0)\n",
      "Requirement already satisfied: typing-extensions>=4.8.0 in /Users/jessi/anaconda3/lib/python3.11/site-packages (from torch>=1.8.1->germansentiment) (4.11.0)\n",
      "Requirement already satisfied: sympy in /Users/jessi/anaconda3/lib/python3.11/site-packages (from torch>=1.8.1->germansentiment) (1.11.1)\n",
      "Requirement already satisfied: networkx in /Users/jessi/anaconda3/lib/python3.11/site-packages (from torch>=1.8.1->germansentiment) (3.1)\n",
      "Requirement already satisfied: jinja2 in /Users/jessi/anaconda3/lib/python3.11/site-packages (from torch>=1.8.1->germansentiment) (3.1.2)\n",
      "Requirement already satisfied: fsspec in /Users/jessi/anaconda3/lib/python3.11/site-packages (from torch>=1.8.1->germansentiment) (2024.9.0)\n",
      "Requirement already satisfied: huggingface-hub<1.0,>=0.15.1 in /Users/jessi/anaconda3/lib/python3.11/site-packages (from transformers->germansentiment) (0.24.6)\n",
      "Requirement already satisfied: numpy>=1.17 in /Users/jessi/anaconda3/lib/python3.11/site-packages (from transformers->germansentiment) (1.24.3)\n",
      "Requirement already satisfied: packaging>=20.0 in /Users/jessi/anaconda3/lib/python3.11/site-packages (from transformers->germansentiment) (23.1)\n",
      "Requirement already satisfied: pyyaml>=5.1 in /Users/jessi/anaconda3/lib/python3.11/site-packages (from transformers->germansentiment) (6.0.2)\n",
      "Requirement already satisfied: regex!=2019.12.17 in /Users/jessi/anaconda3/lib/python3.11/site-packages (from transformers->germansentiment) (2022.7.9)\n",
      "Requirement already satisfied: requests in /Users/jessi/anaconda3/lib/python3.11/site-packages (from transformers->germansentiment) (2.32.3)\n",
      "Requirement already satisfied: tokenizers!=0.11.3,<0.14,>=0.11.1 in /Users/jessi/anaconda3/lib/python3.11/site-packages (from transformers->germansentiment) (0.13.2)\n",
      "Requirement already satisfied: safetensors>=0.3.1 in /Users/jessi/anaconda3/lib/python3.11/site-packages (from transformers->germansentiment) (0.3.2)\n",
      "Requirement already satisfied: tqdm>=4.27 in /Users/jessi/anaconda3/lib/python3.11/site-packages (from transformers->germansentiment) (4.67.1)\n",
      "Requirement already satisfied: MarkupSafe>=2.0 in /Users/jessi/anaconda3/lib/python3.11/site-packages (from jinja2->torch>=1.8.1->germansentiment) (2.1.1)\n",
      "Requirement already satisfied: charset-normalizer<4,>=2 in /Users/jessi/anaconda3/lib/python3.11/site-packages (from requests->transformers->germansentiment) (2.0.4)\n",
      "Requirement already satisfied: idna<4,>=2.5 in /Users/jessi/anaconda3/lib/python3.11/site-packages (from requests->transformers->germansentiment) (3.4)\n",
      "Requirement already satisfied: urllib3<3,>=1.21.1 in /Users/jessi/anaconda3/lib/python3.11/site-packages (from requests->transformers->germansentiment) (1.26.16)\n",
      "Requirement already satisfied: certifi>=2017.4.17 in /Users/jessi/anaconda3/lib/python3.11/site-packages (from requests->transformers->germansentiment) (2024.12.14)\n",
      "Requirement already satisfied: mpmath>=0.19 in /Users/jessi/anaconda3/lib/python3.11/site-packages (from sympy->torch>=1.8.1->germansentiment) (1.3.0)\n",
      "Note: you may need to restart the kernel to use updated packages.\n"
     ]
    }
   ],
   "source": [
    "pip install germansentiment"
   ]
  },
  {
   "cell_type": "code",
   "execution_count": 35,
   "metadata": {
    "id": "KWzxJFD-AvAa"
   },
   "outputs": [],
   "source": [
    "from germansentiment import SentimentModel"
   ]
  },
  {
   "cell_type": "code",
   "execution_count": 37,
   "metadata": {
    "colab": {
     "base_uri": "https://localhost:8080/",
     "height": 177,
     "referenced_widgets": [
      "3a238729cfdb436c9130d52c680dde9e",
      "ca7ca95026dd4526b1dba599e395a5ce",
      "70a4f472480040069126206764c1a2b4",
      "5b05b44d7e0e4a3db3a76f932ed56cd6",
      "18d7bfe1c7634420a0e877e681f4edc5",
      "89f15f698add43d1b5cca5d8da8b18a7",
      "18d0b461d5f242dabd778de849c9be30",
      "00b43745393841608ab16f2e6c31ac4f",
      "1c87f21bf6d14b9f99b5ad82f3283add",
      "c68a9fd49eb04fbd8e60a5cebc921e3c",
      "797d206c12cc4bdfbbc80cb5633589c9",
      "4469da4b07614f62a83def5dc0361dac",
      "fba0239e00004282992eb0d40badbdd1",
      "bd7a0c267533439c81a470131a12b7af",
      "5b0eff9849e845bb8fc46d9ef17144d4",
      "df431f7ccedf4cf48eabb4eb6f04fd5a",
      "b6f9bd03e0af4739817d4a5d57a34748",
      "3e5a3e1c1ee54c9395dd0dc525bce51c",
      "bf37b65ecc7c4041bd35b8cad3c9c953",
      "afbbae33fc8f41ceb9dd70d2dd21a917",
      "1e768357258f4491ac4c669d01a01957",
      "7e8a7ee989e340b686916d515b433c46",
      "3edbb2d146b2421386da1b5558b2771a",
      "9c8d6972f08747db84de2b998565991b",
      "16e5e791ce264e5c92e8821d79ce08c1",
      "a9ebd97b188d4473b3260996f389a66a",
      "0cca7e887f204d739046edd7d02234b5",
      "945c4fd080b643fc92ad5e0d017c6afd",
      "2a19acbaa61d428c99eed45892860b81",
      "5e9bec961c77458a88ba04f05acfb203",
      "2734f3ae44284a5e82372bbb7b4b48a0",
      "b26cd1bac914430d880f5d47a10acf66",
      "2ee73d05072d4d779697dcd3a88a2bcb",
      "719304aa869e4d389e7f459455b3e2fd",
      "091a62e69eae4cb980913f71e0dfe620",
      "4d8cdbed438b46de9dca6b4aa62741b7",
      "9f4a5fdd8b934d6abb258e364e23562a",
      "df544b0854194022a60f8d5ff57b097a",
      "a1f40b5ae7fc4e0c88e8eb6c6da2bf91",
      "66679bc0411a4c3d9f5a8bc8a91919c7",
      "f1e8e2c7c40d4f7c98fcb48a62a58983",
      "f3d707e3ff6e43f3bf234174e3e5db92",
      "601fa563a44642acbab4f859d917db13",
      "553690c132ee4163bbecb58d0ac7b800",
      "8a46f65cec124be390c66ef97118bf00",
      "c1d9578e908348caa441badd21e47a28",
      "2e600314ba7641d7b08349855f790896",
      "7a94a1c7344c474ea406e0ba466ea34e",
      "a3849f3e5c254672b23232f6f5cbd569",
      "ce1a58ab6632469282296ffb506aeb36",
      "3b63d514edf746fabf63a87df15c7482",
      "ead0307a2b7e412c984910bcc15853bf",
      "dc3bf9ce12974136b34ffa8798d21843",
      "c6f7126c278e49abae50e13f57324841",
      "8d53da7dd7974c0ca8512d528a25d477"
     ]
    },
    "id": "LO4t2IcmD10g",
    "outputId": "81870346-95fe-4a01-c598-df903b241f7a"
   },
   "outputs": [
    {
     "name": "stderr",
     "output_type": "stream",
     "text": [
      "/Users/jessi/anaconda3/lib/python3.11/site-packages/huggingface_hub/file_download.py:1150: FutureWarning: `resume_download` is deprecated and will be removed in version 1.0.0. Downloads always resume when possible. If you want to force a new download, use `force_download=True`.\n",
      "  warnings.warn(\n",
      "/Users/jessi/anaconda3/lib/python3.11/site-packages/transformers/utils/generic.py:260: UserWarning: torch.utils._pytree._register_pytree_node is deprecated. Please use torch.utils._pytree.register_pytree_node instead.\n",
      "  torch.utils._pytree._register_pytree_node(\n"
     ]
    }
   ],
   "source": [
    "model = SentimentModel()\n",
    "\n",
    "texts = prediction_texts\n",
    "\n",
    "result = model.predict_sentiment(texts)"
   ]
  },
  {
   "cell_type": "code",
   "execution_count": 39,
   "metadata": {
    "id": "l0Z7E3afEFuc"
   },
   "outputs": [],
   "source": [
    "predicted_labels = result"
   ]
  },
  {
   "cell_type": "code",
   "execution_count": 41,
   "metadata": {
    "colab": {
     "base_uri": "https://localhost:8080/"
    },
    "id": "H5ZTGOT3EJpe",
    "outputId": "2e7152d7-0856-4ca2-a8fc-063c3156bcc4"
   },
   "outputs": [
    {
     "name": "stdout",
     "output_type": "stream",
     "text": [
      "Accuracy German-Sentiment-Bert: 0.5014\n"
     ]
    }
   ],
   "source": [
    "#Calculate evaluation metrics by comparing with the correct labels\n",
    "accuracy = accuracy_score(true_labels, predicted_labels)\n",
    "print(f\"Accuracy German-Sentiment-Bert: {accuracy:.4f}\")"
   ]
  },
  {
   "cell_type": "code",
   "execution_count": 43,
   "metadata": {
    "colab": {
     "base_uri": "https://localhost:8080/"
    },
    "id": "aUSIzRQgEN17",
    "outputId": "d725e0f4-1a4a-4b6c-aa33-42685c826b40"
   },
   "outputs": [
    {
     "name": "stdout",
     "output_type": "stream",
     "text": [
      "Classification Report German-Sentiment-Bert:\n",
      "               precision    recall  f1-score   support\n",
      "\n",
      "    negative       0.62      0.31      0.42       108\n",
      "     neutral       0.47      0.89      0.61       152\n",
      "    positive       0.77      0.10      0.18        97\n",
      "\n",
      "    accuracy                           0.50       357\n",
      "   macro avg       0.62      0.44      0.40       357\n",
      "weighted avg       0.59      0.50      0.44       357\n",
      "\n"
     ]
    }
   ],
   "source": [
    "report = classification_report(true_labels, predicted_labels)\n",
    "print(\"Classification Report German-Sentiment-Bert:\\n\", report)"
   ]
  },
  {
   "cell_type": "code",
   "execution_count": null,
   "metadata": {
    "id": "cKSnMQowEawU"
   },
   "outputs": [],
   "source": [
    "#test with third model: XLM-RoBERTa-German-sentiment\n",
    "#implement model to predict labels"
   ]
  },
  {
   "cell_type": "code",
   "execution_count": 45,
   "metadata": {
    "colab": {
     "base_uri": "https://localhost:8080/",
     "height": 113,
     "referenced_widgets": [
      "e8c88088d9f943e19e1605d1c822122d",
      "908613af679e409ca94edee97a7b8332",
      "14aeef153b5f4e6f87ff4e30eaf2ec4e",
      "dd08b97d2e5e4fb1a8bc293361aedd07",
      "f05e392dce65496b83a37e0e89e66d88",
      "5d417be1f44c41588d011f0f8711db0e",
      "35bf2574361348c3b5d7b05efe8b1156",
      "54aa20dd5d174ef1ab751f5f5ae103e8",
      "b8af67c3067b4c4c95649b9c95d49cba",
      "5f2111b32e314d6e99a1e2f4f5e3eb2b",
      "2515c40e46fd497c98eb139ed96f10c6",
      "6e94a7b072fa431b9d4065c773a56486",
      "01507d5f32e94808a0bdc9fdd9d11903",
      "7e4232fa7fba467e902f7d9ef51fb3c1",
      "a56859bcf10e47aea41658d5b8ffa5f8",
      "438c94a582d945f8872634d58e19a650",
      "758b08abd7ab4af3a604223913ed1bc8",
      "6a0ca0dbe4f94e04b594315a40b8b08d",
      "314cf1beb5854c828782f9e371c765ba",
      "1f2a1fe5a49d44688f92c098ded5b3c4",
      "def7675a0d6c4267b21701781f0eeee4",
      "e1499f3b327c4b9ca39dad451247cec9",
      "5c8f7710d3d346cc9b303e1c0694b514",
      "0ad3f59c26c04b42bec9b0e9c765060e",
      "ec6274fa48cc4433853c5850e2301de3",
      "b81e6bc839634a339b9fb3fd1668f6a5",
      "26b5ad5c51fa4b96b63f8381468d44cb",
      "6a02dfd925674af18769d885eba242e6",
      "30f30bed9e7d478c8d4417b5ecac2f42",
      "5d073d85a17e4632b9ee062855afbca6",
      "e631b7b042e34cd085273404feadb5c1",
      "fbb7bafbc8b14e45bac28af4bd3063af",
      "6559e94d886f45a585aad89a631425c2"
     ]
    },
    "id": "5B5mUK0yEluU",
    "outputId": "aaa7401f-1430-489e-db9d-cb1819171555"
   },
   "outputs": [
    {
     "name": "stderr",
     "output_type": "stream",
     "text": [
      "/Users/jessi/anaconda3/lib/python3.11/site-packages/huggingface_hub/file_download.py:1150: FutureWarning: `resume_download` is deprecated and will be removed in version 1.0.0. Downloads always resume when possible. If you want to force a new download, use `force_download=True`.\n",
      "  warnings.warn(\n"
     ]
    }
   ],
   "source": [
    "model_name= \"ssary/XLM-RoBERTa-German-sentiment\"\n",
    "model = AutoModelForSequenceClassification.from_pretrained(model_name)\n",
    "tokenizer = AutoTokenizer.from_pretrained(model_name)"
   ]
  },
  {
   "cell_type": "code",
   "execution_count": 47,
   "metadata": {
    "id": "TMjfd1UuGEd1"
   },
   "outputs": [],
   "source": [
    "sentiment_classes = ['negative', 'neutral', 'positive']"
   ]
  },
  {
   "cell_type": "code",
   "execution_count": 49,
   "metadata": {
    "id": "OgiYIHBkFOE3"
   },
   "outputs": [],
   "source": [
    "def predict_sentiment_labels(texts):\n",
    "    predicted_labels = []\n",
    "\n",
    "    for text in texts:\n",
    "        inputs = tokenizer(text, return_tensors=\"pt\", truncation=True, max_length=512)\n",
    "\n",
    "\n",
    "        with torch.no_grad():\n",
    "            outputs = model(**inputs)\n",
    "\n",
    "\n",
    "        predictions = torch.nn.functional.softmax(outputs.logits, dim=-1)\n",
    "\n",
    "\n",
    "        predicted_label = sentiment_classes[predictions.argmax()]\n",
    "        predicted_labels.append(predicted_label)\n",
    "\n",
    "    return predicted_labels"
   ]
  },
  {
   "cell_type": "code",
   "execution_count": 51,
   "metadata": {
    "id": "myj6e33cF2is"
   },
   "outputs": [],
   "source": [
    "predicted_labels = predict_sentiment_labels(prediction_texts)"
   ]
  },
  {
   "cell_type": "code",
   "execution_count": 57,
   "metadata": {
    "colab": {
     "base_uri": "https://localhost:8080/"
    },
    "id": "pfdJHN-sGLpq",
    "outputId": "d778d50d-1ec1-46cb-8726-13049afcca29"
   },
   "outputs": [
    {
     "name": "stdout",
     "output_type": "stream",
     "text": [
      "Accuracy XLM-RoBERTa-German-sentiment: 0.4734\n"
     ]
    }
   ],
   "source": [
    "#Calculate evaluation metrics by comparing with the correct labels\n",
    "accuracy = accuracy_score(true_labels, predicted_labels)\n",
    "print(f\"Accuracy XLM-RoBERTa-German-sentiment: {accuracy:.4f}\")"
   ]
  },
  {
   "cell_type": "code",
   "execution_count": 59,
   "metadata": {
    "colab": {
     "base_uri": "https://localhost:8080/"
    },
    "id": "2Era3NKDGSeq",
    "outputId": "75b38f8b-b62c-493a-8989-7ed510b79362"
   },
   "outputs": [
    {
     "name": "stdout",
     "output_type": "stream",
     "text": [
      "Classification report XLM-RoBERTa-German-sentiment:\n",
      "               precision    recall  f1-score   support\n",
      "\n",
      "    negative       0.72      0.19      0.31       108\n",
      "     neutral       0.44      0.93      0.60       152\n",
      "    positive       0.70      0.07      0.13        97\n",
      "\n",
      "    accuracy                           0.47       357\n",
      "   macro avg       0.62      0.40      0.35       357\n",
      "weighted avg       0.60      0.47      0.38       357\n",
      "\n"
     ]
    }
   ],
   "source": [
    "report = classification_report(true_labels, predicted_labels)\n",
    "print(\"Classification report XLM-RoBERTa-German-sentiment:\\n\", report)"
   ]
  },
  {
   "cell_type": "markdown",
   "metadata": {
    "id": "q8mWK25WH415"
   },
   "source": []
  },
  {
   "cell_type": "code",
   "execution_count": null,
   "metadata": {
    "id": "ErexDO-VH5k-"
   },
   "outputs": [],
   "source": []
  }
 ],
 "metadata": {
  "accelerator": "GPU",
  "colab": {
   "gpuType": "T4",
   "provenance": []
  },
  "kernelspec": {
   "display_name": "Python [conda env:base] *",
   "language": "python",
   "name": "conda-base-py"
  },
  "language_info": {
   "codemirror_mode": {
    "name": "ipython",
    "version": 3
   },
   "file_extension": ".py",
   "mimetype": "text/x-python",
   "name": "python",
   "nbconvert_exporter": "python",
   "pygments_lexer": "ipython3",
   "version": "3.11.5"
  }
 },
 "nbformat": 4,
 "nbformat_minor": 4
}
