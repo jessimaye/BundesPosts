{
 "cells": [
  {
   "cell_type": "code",
   "execution_count": 2,
   "metadata": {
    "colab": {
     "base_uri": "https://localhost:8080/"
    },
    "id": "tXtL6kWvjxeV",
    "outputId": "f948a672-6460-4a4e-dda0-66d3c01387bc"
   },
   "outputs": [
    {
     "name": "stdout",
     "output_type": "stream",
     "text": [
      "Collecting datasets\n",
      "  Downloading datasets-3.3.2-py3-none-any.whl.metadata (19 kB)\n",
      "Requirement already satisfied: transformers in /usr/local/lib/python3.11/dist-packages (4.48.3)\n",
      "Requirement already satisfied: filelock in /usr/local/lib/python3.11/dist-packages (from datasets) (3.17.0)\n",
      "Requirement already satisfied: numpy>=1.17 in /usr/local/lib/python3.11/dist-packages (from datasets) (1.26.4)\n",
      "Requirement already satisfied: pyarrow>=15.0.0 in /usr/local/lib/python3.11/dist-packages (from datasets) (17.0.0)\n",
      "Collecting dill<0.3.9,>=0.3.0 (from datasets)\n",
      "  Downloading dill-0.3.8-py3-none-any.whl.metadata (10 kB)\n",
      "Requirement already satisfied: pandas in /usr/local/lib/python3.11/dist-packages (from datasets) (2.2.2)\n",
      "Requirement already satisfied: requests>=2.32.2 in /usr/local/lib/python3.11/dist-packages (from datasets) (2.32.3)\n",
      "Requirement already satisfied: tqdm>=4.66.3 in /usr/local/lib/python3.11/dist-packages (from datasets) (4.67.1)\n",
      "Collecting xxhash (from datasets)\n",
      "  Downloading xxhash-3.5.0-cp311-cp311-manylinux_2_17_x86_64.manylinux2014_x86_64.whl.metadata (12 kB)\n",
      "Collecting multiprocess<0.70.17 (from datasets)\n",
      "  Downloading multiprocess-0.70.16-py311-none-any.whl.metadata (7.2 kB)\n",
      "Requirement already satisfied: fsspec<=2024.12.0,>=2023.1.0 in /usr/local/lib/python3.11/dist-packages (from fsspec[http]<=2024.12.0,>=2023.1.0->datasets) (2024.10.0)\n",
      "Requirement already satisfied: aiohttp in /usr/local/lib/python3.11/dist-packages (from datasets) (3.11.12)\n",
      "Requirement already satisfied: huggingface-hub>=0.24.0 in /usr/local/lib/python3.11/dist-packages (from datasets) (0.28.1)\n",
      "Requirement already satisfied: packaging in /usr/local/lib/python3.11/dist-packages (from datasets) (24.2)\n",
      "Requirement already satisfied: pyyaml>=5.1 in /usr/local/lib/python3.11/dist-packages (from datasets) (6.0.2)\n",
      "Requirement already satisfied: regex!=2019.12.17 in /usr/local/lib/python3.11/dist-packages (from transformers) (2024.11.6)\n",
      "Requirement already satisfied: tokenizers<0.22,>=0.21 in /usr/local/lib/python3.11/dist-packages (from transformers) (0.21.0)\n",
      "Requirement already satisfied: safetensors>=0.4.1 in /usr/local/lib/python3.11/dist-packages (from transformers) (0.5.2)\n",
      "Requirement already satisfied: aiohappyeyeballs>=2.3.0 in /usr/local/lib/python3.11/dist-packages (from aiohttp->datasets) (2.4.6)\n",
      "Requirement already satisfied: aiosignal>=1.1.2 in /usr/local/lib/python3.11/dist-packages (from aiohttp->datasets) (1.3.2)\n",
      "Requirement already satisfied: attrs>=17.3.0 in /usr/local/lib/python3.11/dist-packages (from aiohttp->datasets) (25.1.0)\n",
      "Requirement already satisfied: frozenlist>=1.1.1 in /usr/local/lib/python3.11/dist-packages (from aiohttp->datasets) (1.5.0)\n",
      "Requirement already satisfied: multidict<7.0,>=4.5 in /usr/local/lib/python3.11/dist-packages (from aiohttp->datasets) (6.1.0)\n",
      "Requirement already satisfied: propcache>=0.2.0 in /usr/local/lib/python3.11/dist-packages (from aiohttp->datasets) (0.2.1)\n",
      "Requirement already satisfied: yarl<2.0,>=1.17.0 in /usr/local/lib/python3.11/dist-packages (from aiohttp->datasets) (1.18.3)\n",
      "Requirement already satisfied: typing-extensions>=3.7.4.3 in /usr/local/lib/python3.11/dist-packages (from huggingface-hub>=0.24.0->datasets) (4.12.2)\n",
      "Requirement already satisfied: charset-normalizer<4,>=2 in /usr/local/lib/python3.11/dist-packages (from requests>=2.32.2->datasets) (3.4.1)\n",
      "Requirement already satisfied: idna<4,>=2.5 in /usr/local/lib/python3.11/dist-packages (from requests>=2.32.2->datasets) (3.10)\n",
      "Requirement already satisfied: urllib3<3,>=1.21.1 in /usr/local/lib/python3.11/dist-packages (from requests>=2.32.2->datasets) (2.3.0)\n",
      "Requirement already satisfied: certifi>=2017.4.17 in /usr/local/lib/python3.11/dist-packages (from requests>=2.32.2->datasets) (2025.1.31)\n",
      "Requirement already satisfied: python-dateutil>=2.8.2 in /usr/local/lib/python3.11/dist-packages (from pandas->datasets) (2.8.2)\n",
      "Requirement already satisfied: pytz>=2020.1 in /usr/local/lib/python3.11/dist-packages (from pandas->datasets) (2025.1)\n",
      "Requirement already satisfied: tzdata>=2022.7 in /usr/local/lib/python3.11/dist-packages (from pandas->datasets) (2025.1)\n",
      "Requirement already satisfied: six>=1.5 in /usr/local/lib/python3.11/dist-packages (from python-dateutil>=2.8.2->pandas->datasets) (1.17.0)\n",
      "Downloading datasets-3.3.2-py3-none-any.whl (485 kB)\n",
      "\u001b[2K   \u001b[90m━━━━━━━━━━━━━━━━━━━━━━━━━━━━━━━━━━━━━━━━\u001b[0m \u001b[32m485.4/485.4 kB\u001b[0m \u001b[31m8.4 MB/s\u001b[0m eta \u001b[36m0:00:00\u001b[0m\n",
      "\u001b[?25hDownloading dill-0.3.8-py3-none-any.whl (116 kB)\n",
      "\u001b[2K   \u001b[90m━━━━━━━━━━━━━━━━━━━━━━━━━━━━━━━━━━━━━━━━\u001b[0m \u001b[32m116.3/116.3 kB\u001b[0m \u001b[31m7.1 MB/s\u001b[0m eta \u001b[36m0:00:00\u001b[0m\n",
      "\u001b[?25hDownloading multiprocess-0.70.16-py311-none-any.whl (143 kB)\n",
      "\u001b[2K   \u001b[90m━━━━━━━━━━━━━━━━━━━━━━━━━━━━━━━━━━━━━━━━\u001b[0m \u001b[32m143.5/143.5 kB\u001b[0m \u001b[31m11.0 MB/s\u001b[0m eta \u001b[36m0:00:00\u001b[0m\n",
      "\u001b[?25hDownloading xxhash-3.5.0-cp311-cp311-manylinux_2_17_x86_64.manylinux2014_x86_64.whl (194 kB)\n",
      "\u001b[2K   \u001b[90m━━━━━━━━━━━━━━━━━━━━━━━━━━━━━━━━━━━━━━━━\u001b[0m \u001b[32m194.8/194.8 kB\u001b[0m \u001b[31m10.1 MB/s\u001b[0m eta \u001b[36m0:00:00\u001b[0m\n",
      "\u001b[?25hInstalling collected packages: xxhash, dill, multiprocess, datasets\n",
      "Successfully installed datasets-3.3.2 dill-0.3.8 multiprocess-0.70.16 xxhash-3.5.0\n",
      "Requirement already satisfied: accelerate in /usr/local/lib/python3.11/dist-packages (1.3.0)\n",
      "Requirement already satisfied: numpy<3.0.0,>=1.17 in /usr/local/lib/python3.11/dist-packages (from accelerate) (1.26.4)\n",
      "Requirement already satisfied: packaging>=20.0 in /usr/local/lib/python3.11/dist-packages (from accelerate) (24.2)\n",
      "Requirement already satisfied: psutil in /usr/local/lib/python3.11/dist-packages (from accelerate) (5.9.5)\n",
      "Requirement already satisfied: pyyaml in /usr/local/lib/python3.11/dist-packages (from accelerate) (6.0.2)\n",
      "Requirement already satisfied: torch>=2.0.0 in /usr/local/lib/python3.11/dist-packages (from accelerate) (2.5.1+cu124)\n",
      "Requirement already satisfied: huggingface-hub>=0.21.0 in /usr/local/lib/python3.11/dist-packages (from accelerate) (0.28.1)\n",
      "Requirement already satisfied: safetensors>=0.4.3 in /usr/local/lib/python3.11/dist-packages (from accelerate) (0.5.2)\n",
      "Requirement already satisfied: filelock in /usr/local/lib/python3.11/dist-packages (from huggingface-hub>=0.21.0->accelerate) (3.17.0)\n",
      "Requirement already satisfied: fsspec>=2023.5.0 in /usr/local/lib/python3.11/dist-packages (from huggingface-hub>=0.21.0->accelerate) (2024.10.0)\n",
      "Requirement already satisfied: requests in /usr/local/lib/python3.11/dist-packages (from huggingface-hub>=0.21.0->accelerate) (2.32.3)\n",
      "Requirement already satisfied: tqdm>=4.42.1 in /usr/local/lib/python3.11/dist-packages (from huggingface-hub>=0.21.0->accelerate) (4.67.1)\n",
      "Requirement already satisfied: typing-extensions>=3.7.4.3 in /usr/local/lib/python3.11/dist-packages (from huggingface-hub>=0.21.0->accelerate) (4.12.2)\n",
      "Requirement already satisfied: networkx in /usr/local/lib/python3.11/dist-packages (from torch>=2.0.0->accelerate) (3.4.2)\n",
      "Requirement already satisfied: jinja2 in /usr/local/lib/python3.11/dist-packages (from torch>=2.0.0->accelerate) (3.1.5)\n",
      "Collecting nvidia-cuda-nvrtc-cu12==12.4.127 (from torch>=2.0.0->accelerate)\n",
      "  Downloading nvidia_cuda_nvrtc_cu12-12.4.127-py3-none-manylinux2014_x86_64.whl.metadata (1.5 kB)\n",
      "Collecting nvidia-cuda-runtime-cu12==12.4.127 (from torch>=2.0.0->accelerate)\n",
      "  Downloading nvidia_cuda_runtime_cu12-12.4.127-py3-none-manylinux2014_x86_64.whl.metadata (1.5 kB)\n",
      "Collecting nvidia-cuda-cupti-cu12==12.4.127 (from torch>=2.0.0->accelerate)\n",
      "  Downloading nvidia_cuda_cupti_cu12-12.4.127-py3-none-manylinux2014_x86_64.whl.metadata (1.6 kB)\n",
      "Collecting nvidia-cudnn-cu12==9.1.0.70 (from torch>=2.0.0->accelerate)\n",
      "  Downloading nvidia_cudnn_cu12-9.1.0.70-py3-none-manylinux2014_x86_64.whl.metadata (1.6 kB)\n",
      "Collecting nvidia-cublas-cu12==12.4.5.8 (from torch>=2.0.0->accelerate)\n",
      "  Downloading nvidia_cublas_cu12-12.4.5.8-py3-none-manylinux2014_x86_64.whl.metadata (1.5 kB)\n",
      "Collecting nvidia-cufft-cu12==11.2.1.3 (from torch>=2.0.0->accelerate)\n",
      "  Downloading nvidia_cufft_cu12-11.2.1.3-py3-none-manylinux2014_x86_64.whl.metadata (1.5 kB)\n",
      "Collecting nvidia-curand-cu12==10.3.5.147 (from torch>=2.0.0->accelerate)\n",
      "  Downloading nvidia_curand_cu12-10.3.5.147-py3-none-manylinux2014_x86_64.whl.metadata (1.5 kB)\n",
      "Collecting nvidia-cusolver-cu12==11.6.1.9 (from torch>=2.0.0->accelerate)\n",
      "  Downloading nvidia_cusolver_cu12-11.6.1.9-py3-none-manylinux2014_x86_64.whl.metadata (1.6 kB)\n",
      "Collecting nvidia-cusparse-cu12==12.3.1.170 (from torch>=2.0.0->accelerate)\n",
      "  Downloading nvidia_cusparse_cu12-12.3.1.170-py3-none-manylinux2014_x86_64.whl.metadata (1.6 kB)\n",
      "Requirement already satisfied: nvidia-nccl-cu12==2.21.5 in /usr/local/lib/python3.11/dist-packages (from torch>=2.0.0->accelerate) (2.21.5)\n",
      "Requirement already satisfied: nvidia-nvtx-cu12==12.4.127 in /usr/local/lib/python3.11/dist-packages (from torch>=2.0.0->accelerate) (12.4.127)\n",
      "Collecting nvidia-nvjitlink-cu12==12.4.127 (from torch>=2.0.0->accelerate)\n",
      "  Downloading nvidia_nvjitlink_cu12-12.4.127-py3-none-manylinux2014_x86_64.whl.metadata (1.5 kB)\n",
      "Requirement already satisfied: triton==3.1.0 in /usr/local/lib/python3.11/dist-packages (from torch>=2.0.0->accelerate) (3.1.0)\n",
      "Requirement already satisfied: sympy==1.13.1 in /usr/local/lib/python3.11/dist-packages (from torch>=2.0.0->accelerate) (1.13.1)\n",
      "Requirement already satisfied: mpmath<1.4,>=1.1.0 in /usr/local/lib/python3.11/dist-packages (from sympy==1.13.1->torch>=2.0.0->accelerate) (1.3.0)\n",
      "Requirement already satisfied: MarkupSafe>=2.0 in /usr/local/lib/python3.11/dist-packages (from jinja2->torch>=2.0.0->accelerate) (3.0.2)\n",
      "Requirement already satisfied: charset-normalizer<4,>=2 in /usr/local/lib/python3.11/dist-packages (from requests->huggingface-hub>=0.21.0->accelerate) (3.4.1)\n",
      "Requirement already satisfied: idna<4,>=2.5 in /usr/local/lib/python3.11/dist-packages (from requests->huggingface-hub>=0.21.0->accelerate) (3.10)\n",
      "Requirement already satisfied: urllib3<3,>=1.21.1 in /usr/local/lib/python3.11/dist-packages (from requests->huggingface-hub>=0.21.0->accelerate) (2.3.0)\n",
      "Requirement already satisfied: certifi>=2017.4.17 in /usr/local/lib/python3.11/dist-packages (from requests->huggingface-hub>=0.21.0->accelerate) (2025.1.31)\n",
      "Downloading nvidia_cublas_cu12-12.4.5.8-py3-none-manylinux2014_x86_64.whl (363.4 MB)\n",
      "\u001b[2K   \u001b[90m━━━━━━━━━━━━━━━━━━━━━━━━━━━━━━━━━━━━━━━━\u001b[0m \u001b[32m363.4/363.4 MB\u001b[0m \u001b[31m3.2 MB/s\u001b[0m eta \u001b[36m0:00:00\u001b[0m\n",
      "\u001b[?25hDownloading nvidia_cuda_cupti_cu12-12.4.127-py3-none-manylinux2014_x86_64.whl (13.8 MB)\n",
      "\u001b[2K   \u001b[90m━━━━━━━━━━━━━━━━━━━━━━━━━━━━━━━━━━━━━━━━\u001b[0m \u001b[32m13.8/13.8 MB\u001b[0m \u001b[31m27.7 MB/s\u001b[0m eta \u001b[36m0:00:00\u001b[0m\n",
      "\u001b[?25hDownloading nvidia_cuda_nvrtc_cu12-12.4.127-py3-none-manylinux2014_x86_64.whl (24.6 MB)\n",
      "\u001b[2K   \u001b[90m━━━━━━━━━━━━━━━━━━━━━━━━━━━━━━━━━━━━━━━━\u001b[0m \u001b[32m24.6/24.6 MB\u001b[0m \u001b[31m11.4 MB/s\u001b[0m eta \u001b[36m0:00:00\u001b[0m\n",
      "\u001b[?25hDownloading nvidia_cuda_runtime_cu12-12.4.127-py3-none-manylinux2014_x86_64.whl (883 kB)\n",
      "\u001b[2K   \u001b[90m━━━━━━━━━━━━━━━━━━━━━━━━━━━━━━━━━━━━━━━━\u001b[0m \u001b[32m883.7/883.7 kB\u001b[0m \u001b[31m19.9 MB/s\u001b[0m eta \u001b[36m0:00:00\u001b[0m\n",
      "\u001b[?25hDownloading nvidia_cudnn_cu12-9.1.0.70-py3-none-manylinux2014_x86_64.whl (664.8 MB)\n",
      "\u001b[2K   \u001b[90m━━━━━━━━━━━━━━━━━━━━━━━━━━━━━━━━━━━━━━━━\u001b[0m \u001b[32m664.8/664.8 MB\u001b[0m \u001b[31m2.6 MB/s\u001b[0m eta \u001b[36m0:00:00\u001b[0m\n",
      "\u001b[?25hDownloading nvidia_cufft_cu12-11.2.1.3-py3-none-manylinux2014_x86_64.whl (211.5 MB)\n",
      "\u001b[2K   \u001b[90m━━━━━━━━━━━━━━━━━━━━━━━━━━━━━━━━━━━━━━━━\u001b[0m \u001b[32m211.5/211.5 MB\u001b[0m \u001b[31m5.1 MB/s\u001b[0m eta \u001b[36m0:00:00\u001b[0m\n",
      "\u001b[?25hDownloading nvidia_curand_cu12-10.3.5.147-py3-none-manylinux2014_x86_64.whl (56.3 MB)\n",
      "\u001b[2K   \u001b[90m━━━━━━━━━━━━━━━━━━━━━━━━━━━━━━━━━━━━━━━━\u001b[0m \u001b[32m56.3/56.3 MB\u001b[0m \u001b[31m13.4 MB/s\u001b[0m eta \u001b[36m0:00:00\u001b[0m\n",
      "\u001b[?25hDownloading nvidia_cusolver_cu12-11.6.1.9-py3-none-manylinux2014_x86_64.whl (127.9 MB)\n",
      "\u001b[2K   \u001b[90m━━━━━━━━━━━━━━━━━━━━━━━━━━━━━━━━━━━━━━━━\u001b[0m \u001b[32m127.9/127.9 MB\u001b[0m \u001b[31m8.2 MB/s\u001b[0m eta \u001b[36m0:00:00\u001b[0m\n",
      "\u001b[?25hDownloading nvidia_cusparse_cu12-12.3.1.170-py3-none-manylinux2014_x86_64.whl (207.5 MB)\n",
      "\u001b[2K   \u001b[90m━━━━━━━━━━━━━━━━━━━━━━━━━━━━━━━━━━━━━━━━\u001b[0m \u001b[32m207.5/207.5 MB\u001b[0m \u001b[31m6.4 MB/s\u001b[0m eta \u001b[36m0:00:00\u001b[0m\n",
      "\u001b[?25hDownloading nvidia_nvjitlink_cu12-12.4.127-py3-none-manylinux2014_x86_64.whl (21.1 MB)\n",
      "\u001b[2K   \u001b[90m━━━━━━━━━━━━━━━━━━━━━━━━━━━━━━━━━━━━━━━━\u001b[0m \u001b[32m21.1/21.1 MB\u001b[0m \u001b[31m65.8 MB/s\u001b[0m eta \u001b[36m0:00:00\u001b[0m\n",
      "\u001b[?25hInstalling collected packages: nvidia-nvjitlink-cu12, nvidia-curand-cu12, nvidia-cufft-cu12, nvidia-cuda-runtime-cu12, nvidia-cuda-nvrtc-cu12, nvidia-cuda-cupti-cu12, nvidia-cublas-cu12, nvidia-cusparse-cu12, nvidia-cudnn-cu12, nvidia-cusolver-cu12\n",
      "  Attempting uninstall: nvidia-nvjitlink-cu12\n",
      "    Found existing installation: nvidia-nvjitlink-cu12 12.5.82\n",
      "    Uninstalling nvidia-nvjitlink-cu12-12.5.82:\n",
      "      Successfully uninstalled nvidia-nvjitlink-cu12-12.5.82\n",
      "  Attempting uninstall: nvidia-curand-cu12\n",
      "    Found existing installation: nvidia-curand-cu12 10.3.6.82\n",
      "    Uninstalling nvidia-curand-cu12-10.3.6.82:\n",
      "      Successfully uninstalled nvidia-curand-cu12-10.3.6.82\n",
      "  Attempting uninstall: nvidia-cufft-cu12\n",
      "    Found existing installation: nvidia-cufft-cu12 11.2.3.61\n",
      "    Uninstalling nvidia-cufft-cu12-11.2.3.61:\n",
      "      Successfully uninstalled nvidia-cufft-cu12-11.2.3.61\n",
      "  Attempting uninstall: nvidia-cuda-runtime-cu12\n",
      "    Found existing installation: nvidia-cuda-runtime-cu12 12.5.82\n",
      "    Uninstalling nvidia-cuda-runtime-cu12-12.5.82:\n",
      "      Successfully uninstalled nvidia-cuda-runtime-cu12-12.5.82\n",
      "  Attempting uninstall: nvidia-cuda-nvrtc-cu12\n",
      "    Found existing installation: nvidia-cuda-nvrtc-cu12 12.5.82\n",
      "    Uninstalling nvidia-cuda-nvrtc-cu12-12.5.82:\n",
      "      Successfully uninstalled nvidia-cuda-nvrtc-cu12-12.5.82\n",
      "  Attempting uninstall: nvidia-cuda-cupti-cu12\n",
      "    Found existing installation: nvidia-cuda-cupti-cu12 12.5.82\n",
      "    Uninstalling nvidia-cuda-cupti-cu12-12.5.82:\n",
      "      Successfully uninstalled nvidia-cuda-cupti-cu12-12.5.82\n",
      "  Attempting uninstall: nvidia-cublas-cu12\n",
      "    Found existing installation: nvidia-cublas-cu12 12.5.3.2\n",
      "    Uninstalling nvidia-cublas-cu12-12.5.3.2:\n",
      "      Successfully uninstalled nvidia-cublas-cu12-12.5.3.2\n",
      "  Attempting uninstall: nvidia-cusparse-cu12\n",
      "    Found existing installation: nvidia-cusparse-cu12 12.5.1.3\n",
      "    Uninstalling nvidia-cusparse-cu12-12.5.1.3:\n",
      "      Successfully uninstalled nvidia-cusparse-cu12-12.5.1.3\n",
      "  Attempting uninstall: nvidia-cudnn-cu12\n",
      "    Found existing installation: nvidia-cudnn-cu12 9.3.0.75\n",
      "    Uninstalling nvidia-cudnn-cu12-9.3.0.75:\n",
      "      Successfully uninstalled nvidia-cudnn-cu12-9.3.0.75\n",
      "  Attempting uninstall: nvidia-cusolver-cu12\n",
      "    Found existing installation: nvidia-cusolver-cu12 11.6.3.83\n",
      "    Uninstalling nvidia-cusolver-cu12-11.6.3.83:\n",
      "      Successfully uninstalled nvidia-cusolver-cu12-11.6.3.83\n",
      "Successfully installed nvidia-cublas-cu12-12.4.5.8 nvidia-cuda-cupti-cu12-12.4.127 nvidia-cuda-nvrtc-cu12-12.4.127 nvidia-cuda-runtime-cu12-12.4.127 nvidia-cudnn-cu12-9.1.0.70 nvidia-cufft-cu12-11.2.1.3 nvidia-curand-cu12-10.3.5.147 nvidia-cusolver-cu12-11.6.1.9 nvidia-cusparse-cu12-12.3.1.170 nvidia-nvjitlink-cu12-12.4.127\n"
     ]
    }
   ],
   "source": [
    "!pip install datasets transformers\n",
    "!pip install accelerate"
   ]
  },
  {
   "cell_type": "code",
   "execution_count": 3,
   "metadata": {
    "id": "1oiJq4XdkISp"
   },
   "outputs": [],
   "source": [
    "from datasets import load_dataset, Dataset, DatasetDict\n",
    "from transformers import pipeline\n",
    "from transformers import Trainer, TrainingArguments\n",
    "from transformers import AutoTokenizer, DataCollatorWithPadding\n",
    "from transformers import AutoModelForSequenceClassification\n",
    "from sklearn.metrics import accuracy_score, f1_score, precision_score, recall_score\n",
    "import pandas as pd\n",
    "from sklearn.model_selection import train_test_split\n",
    "from bs4 import BeautifulSoup"
   ]
  },
  {
   "cell_type": "markdown",
   "metadata": {},
   "source": [
    "GBERT2: Finetuning Gbert-base with twitter-dataset and germeval_2017-dataset"
   ]
  },
  {
   "cell_type": "code",
   "execution_count": 4,
   "metadata": {
    "colab": {
     "base_uri": "https://localhost:8080/",
     "height": 459,
     "referenced_widgets": [
      "59910ab5855e413eb33bd7c1c8d2ee46",
      "3802ae84968e416e87270bc7cade9ac5",
      "6255272b2f3c4f7c9c61105a183b4cb0",
      "6277ad3748264f3e8fba89f149f957f3",
      "556ee65b38c5484a9efa9958b2550dc3",
      "f140acefcf2247ccb20481c119f63d55",
      "500667f109964605923230b94552db19",
      "113951a68c724c858c3f6996e48cdd51",
      "cb5214e2086043e79c954073852b72f7",
      "a4167cf0669c46139c8083eb696fd16b",
      "3dd97ad770c9420591ba4dd5b2189b8c",
      "a66f1b81977d49c4a6f2e9f1ab3ea54c",
      "3fe1984de19a457289c7de78520c1874",
      "a1b3594f21f34a36b67233ce35c4af2b",
      "9614ae93498445fc9151ec6a7c0fd5ad",
      "ec1d267f696b497b84fabf2604bce183",
      "e0de9ebd9597440d95fadec458d68e72",
      "be0a1cd02231443ca7d32872fcfb08e7",
      "83d9589c3fb64195a791fbc96835a57a",
      "57990b3141ba409499407bde3cc04701",
      "2a6890b884714ae6b4de41cf930801c3",
      "9e6cfa00cd3a4bfba7244c578ea8d824",
      "ad04152c709c4d46b8bce2c12e0e1523",
      "52a9c6f81cdf45b4a28a709c0c5e6663",
      "4d2afe389cf04ea38d6916f2504688c4",
      "97256dcdfc0b4b89aea63ced9c67d498",
      "b58f1992560d4471b5c51a2527d905d5",
      "7980ed7dc7c946159427ee2220d26d1a",
      "74346b1c3495412eb004a4cc09c43b88",
      "29b798242c8c498ca601e297192d894a",
      "1c74fa569c7447d19f4d7726c520106d",
      "cf67856348484a39b55065431d6ff3bf",
      "6434b1d56a7c4211983ebc6bc26c5d39",
      "f2e24f6d7e6c405cbd2766bbcddc9b7f",
      "ddadd6fcc26046079c811cd5aa5278fa",
      "527d9ace9efe4786a0c588211bed3710",
      "1cec807b4a8a4b668c292ff39a800bb5",
      "2d5720ca7ed24a6baaddf32005e29584",
      "12adf33f79634cdabf294946fbb13db0",
      "3564b38d85134f2b8c41d4710409226a",
      "c3acb1269af8425391a1449613d791da",
      "8122b86a205748488755ba7b8fb54fc6",
      "ec15b27cf0834320bab2b28c566b9942",
      "471cdb59e8c74fc9af52ecd32c8ac101",
      "7c762f2dbfe344d99f879744cf1ee807",
      "6387d98496e44a9fa130bcb86fd59f88",
      "2766f9d88bbc42c39aa877a48b65d70d",
      "d1af688e5d574277badb12239e3044d7",
      "1503f1e6267e4ba49b4d83221c47d899",
      "63ecf91bbe774b24b93019ec964d1f87",
      "535ffd8610b54021bf00ec755c897b29",
      "2ee4cf8d7c1947dbb81173db3a1f5238",
      "a7f0e3c06aaf4070ab5aff3474974328",
      "79cce52ec2ef4068ac7f322d852e98e5",
      "71ae5981aa36438e9ad42afb72503ef1",
      "1c0c9b9b30984e598bc14eea7c3449de",
      "9dafe463447a47bcad5b4aac147540d2",
      "c8d4a10c230c40439c808e19cd88c89d",
      "41c4513a09864ecc9652aa7ade0e07f9",
      "7a09daab7a6b462294b60701bd29f3f3",
      "71ad86a7e22f4a1da1ffdbfc4e63457f",
      "ea94da13f99c4ee3a84a7fbd720b9dc8",
      "8076eac36ae345679545095fe0aecd52",
      "3d2cb5a0b0004fe596b5a6ebf15d87e4",
      "db648a40e0ad4bb6a17c603d69094e99",
      "135a0d402d804c61b005ede107fe4e7b",
      "820074db2586451f90d38a021f766033",
      "f8a8b97798c940a19f337b287b930de9",
      "5caf9b9cb941493588744f35d0b2851d",
      "e121ebbe3f744d42973ce87d2d4f35f4",
      "bf78bed43b784f4eab7d517a32c90ee1",
      "7b77ffe7f6904aaf930ac796d06384db",
      "ba31dad6c2214e9588466a40cfddd593",
      "39ccf2f1057b4cab83ff28fa3c5bec35",
      "32d3433f7a7b43c69c8301eb5d6b590c",
      "cd49e6886ead41898e627ae1151e6e30",
      "6ef7f34cce534fe7815fd097d44fe084",
      "d5c5ed076da742a49c50cc31c5efbed2",
      "e534a65513514e68b25e5cb0b7520915",
      "de13aae709b143aa8a142abaae794529",
      "3a6e7d310cf64bf9bc63550a9804a3fb",
      "f9781f189d0e414f87b5f26903d7935a",
      "77811bd0d23c44178a073f1db39c1b47",
      "85db2c81e7c643f1923eeec2227a8f53",
      "ea21216889f343e0b56928738aaf89c6",
      "bb2caee5714947118fc68e25ec9b511a",
      "25e772785f9041c5a4e1902d23ba7f9d",
      "6adc114b78f64789b712f06dc0bf2bde",
      "30cb16e1c2dc463c85f152d309fc561c",
      "0521edacb3cd4cc7aa0ba45daa7c5512",
      "4fb05673532d468fbde0cb8c7b9a07bd",
      "66eabcb7623d463c845d38f0d5307438",
      "d3f6fd4e0f244314a58bf2bf6c531c60",
      "08a1a5d1486d495d91e43a1b90d3fe64",
      "cad0aa5f3f074a88bbd94824f03bd935",
      "3299caa60bc3436e87b6afe56d0d9073",
      "bed4feb054c84994bb07ff6aed418c19",
      "9ec90a99121b47789111b6a3dbf1a7f9",
      "efb2849139fe4f27909de2fae1769f9c",
      "7ad6edaf32cc4de29d2d18938002801b",
      "b463f1b02b684d01be60df3776efcea2",
      "71ac4c9dbb784d8986c74776d46c91fb",
      "6afa40b71ed141238402abe04b6ee47d",
      "c2929a4427d248d082d245ae9238d237",
      "7290d8b276444b2ca5a4f19a6d932ea3",
      "90110a3cf8814dcab2297b2c256df18e",
      "1e6ba117fbe24f58ae8fc9adede6dc5a",
      "d040be6dea76497dbcbef27e858e87a0",
      "3d5a0d6cdb1a42e09a8124f5d6780eea",
      "edc60611e95f4712b64b59a50779ace8"
     ]
    },
    "id": "YRQxteftkJFc",
    "outputId": "776b5277-2190-4286-e760-6fdaa2a15b21"
   },
   "outputs": [
    {
     "name": "stderr",
     "output_type": "stream",
     "text": [
      "/usr/local/lib/python3.11/dist-packages/huggingface_hub/utils/_auth.py:94: UserWarning: \n",
      "The secret `HF_TOKEN` does not exist in your Colab secrets.\n",
      "To authenticate with the Hugging Face Hub, create a token in your settings tab (https://huggingface.co/settings/tokens), set it as secret in your Google Colab and restart your session.\n",
      "You will be able to reuse this secret in all of your notebooks.\n",
      "Please note that authentication is recommended but still optional to access public models or datasets.\n",
      "  warnings.warn(\n"
     ]
    },
    {
     "data": {
      "application/vnd.jupyter.widget-view+json": {
       "model_id": "59910ab5855e413eb33bd7c1c8d2ee46",
       "version_major": 2,
       "version_minor": 0
      },
      "text/plain": [
       "README.md:   0%|          | 0.00/2.17k [00:00<?, ?B/s]"
      ]
     },
     "metadata": {},
     "output_type": "display_data"
    },
    {
     "data": {
      "application/vnd.jupyter.widget-view+json": {
       "model_id": "a66f1b81977d49c4a6f2e9f1ab3ea54c",
       "version_major": 2,
       "version_minor": 0
      },
      "text/plain": [
       "train.parquet:   0%|          | 0.00/326k [00:00<?, ?B/s]"
      ]
     },
     "metadata": {},
     "output_type": "display_data"
    },
    {
     "data": {
      "application/vnd.jupyter.widget-view+json": {
       "model_id": "ad04152c709c4d46b8bce2c12e0e1523",
       "version_major": 2,
       "version_minor": 0
      },
      "text/plain": [
       "test.parquet:   0%|          | 0.00/81.3k [00:00<?, ?B/s]"
      ]
     },
     "metadata": {},
     "output_type": "display_data"
    },
    {
     "data": {
      "application/vnd.jupyter.widget-view+json": {
       "model_id": "f2e24f6d7e6c405cbd2766bbcddc9b7f",
       "version_major": 2,
       "version_minor": 0
      },
      "text/plain": [
       "Generating train split:   0%|          | 0/1428 [00:00<?, ? examples/s]"
      ]
     },
     "metadata": {},
     "output_type": "display_data"
    },
    {
     "data": {
      "application/vnd.jupyter.widget-view+json": {
       "model_id": "7c762f2dbfe344d99f879744cf1ee807",
       "version_major": 2,
       "version_minor": 0
      },
      "text/plain": [
       "Generating test split:   0%|          | 0/357 [00:00<?, ? examples/s]"
      ]
     },
     "metadata": {},
     "output_type": "display_data"
    },
    {
     "data": {
      "application/vnd.jupyter.widget-view+json": {
       "model_id": "1c0c9b9b30984e598bc14eea7c3449de",
       "version_major": 2,
       "version_minor": 0
      },
      "text/plain": [
       "README.md:   0%|          | 0.00/2.27k [00:00<?, ?B/s]"
      ]
     },
     "metadata": {},
     "output_type": "display_data"
    },
    {
     "data": {
      "application/vnd.jupyter.widget-view+json": {
       "model_id": "820074db2586451f90d38a021f766033",
       "version_major": 2,
       "version_minor": 0
      },
      "text/plain": [
       "train.csv:   0%|          | 0.00/6.23M [00:00<?, ?B/s]"
      ]
     },
     "metadata": {},
     "output_type": "display_data"
    },
    {
     "data": {
      "application/vnd.jupyter.widget-view+json": {
       "model_id": "d5c5ed076da742a49c50cc31c5efbed2",
       "version_major": 2,
       "version_minor": 0
      },
      "text/plain": [
       "test.csv:   0%|          | 0.00/1.54M [00:00<?, ?B/s]"
      ]
     },
     "metadata": {},
     "output_type": "display_data"
    },
    {
     "data": {
      "application/vnd.jupyter.widget-view+json": {
       "model_id": "30cb16e1c2dc463c85f152d309fc561c",
       "version_major": 2,
       "version_minor": 0
      },
      "text/plain": [
       "Generating train split:   0%|          | 0/19432 [00:00<?, ? examples/s]"
      ]
     },
     "metadata": {},
     "output_type": "display_data"
    },
    {
     "data": {
      "application/vnd.jupyter.widget-view+json": {
       "model_id": "7ad6edaf32cc4de29d2d18938002801b",
       "version_major": 2,
       "version_minor": 0
      },
      "text/plain": [
       "Generating test split:   0%|          | 0/2566 [00:00<?, ? examples/s]"
      ]
     },
     "metadata": {},
     "output_type": "display_data"
    }
   ],
   "source": [
    "twitter_dataset = load_dataset(\"Alienmaster/german_politicians_twitter_sentiment\")\n",
    "germeval_17_dataset = load_dataset(\"akash418/germeval_2017\")"
   ]
  },
  {
   "cell_type": "code",
   "execution_count": 5,
   "metadata": {
    "colab": {
     "base_uri": "https://localhost:8080/"
    },
    "id": "gmiwsVL4kSi6",
    "outputId": "c72a83bf-75c6-4e52-cf82-8c9092e334b2"
   },
   "outputs": [
    {
     "name": "stdout",
     "output_type": "stream",
     "text": [
      "DatasetDict({\n",
      "    train: Dataset({\n",
      "        features: ['ID', 'majority_sentiment', 'text'],\n",
      "        num_rows: 1428\n",
      "    })\n",
      "    test: Dataset({\n",
      "        features: ['ID', 'majority_sentiment', 'text'],\n",
      "        num_rows: 357\n",
      "    })\n",
      "})\n"
     ]
    }
   ],
   "source": [
    "print(twitter_dataset)"
   ]
  },
  {
   "cell_type": "code",
   "execution_count": 6,
   "metadata": {
    "colab": {
     "base_uri": "https://localhost:8080/"
    },
    "id": "lDEGyQjSku4t",
    "outputId": "dc775845-1a4f-4bd6-f490-db70b4bf6c89"
   },
   "outputs": [
    {
     "name": "stdout",
     "output_type": "stream",
     "text": [
      "DatasetDict({\n",
      "    train: Dataset({\n",
      "        features: ['id', 'text', 'relevance', 'sentiment'],\n",
      "        num_rows: 19432\n",
      "    })\n",
      "    test: Dataset({\n",
      "        features: ['id', 'text', 'relevance', 'sentiment'],\n",
      "        num_rows: 2566\n",
      "    })\n",
      "})\n"
     ]
    }
   ],
   "source": [
    "print(germeval_17_dataset)"
   ]
  },
  {
   "cell_type": "code",
   "execution_count": 7,
   "metadata": {
    "id": "hE5X6A2AlmkO"
   },
   "outputs": [],
   "source": [
    "#add new column \"label\" with numerical values for sentiment: 0:positive, 1:negative, 2:neutral\n",
    "label_map_1 = {1: 0, 2: 1, 3: 2}\n",
    "label_map_2 = {\"negative\": 1, \"neutral\": 2, \"positive\": 0}"
   ]
  },
  {
   "cell_type": "code",
   "execution_count": 8,
   "metadata": {
    "colab": {
     "base_uri": "https://localhost:8080/",
     "height": 81,
     "referenced_widgets": [
      "5966b10924e74277ab6a77f13e908222",
      "64ab9f0cfed6486b8ce9110634deeeb5",
      "77e5399beb5c456592a1de68a72ba0ff",
      "e3b7efd3154b46e7be807e0dc78c2bd1",
      "fc3303299bd64848be6a7f599a91fcac",
      "80a0744739af4050b9f316142d645f52",
      "245bdd1777714d03ae80e512d40575f3",
      "f944dd1476de480a9a819f1c425acfeb",
      "b67cb3882e62410f916a9413ea8d64c4",
      "59aaaac22b5045208953c8f53eec8e38",
      "e177edb49aae4b2a9a660a718882426e",
      "29a04d6e750c4337935b3ea07396a149",
      "c2f8b37b9eec413b8ca626aa3295c610",
      "21c12668258348d7b4e8fc3457210548",
      "f44f64b9cb63484eb7df857351b8d3aa",
      "0e98c0168d964d8887a5669eaaf71146",
      "9103987a3ccd4f88b36166d94dcd8568",
      "cef433ce3bc14672ac3b02ffb6095cff",
      "869b3e5b37644bbcbbba204d8dcc81bb",
      "a88deb5516ce43ebbe9d4f4f0b50987e",
      "de74a661933f433780c055a967e7bf49",
      "a5793d843c8a485cab6e2fcc7e7ba584"
     ]
    },
    "id": "OBelqrovmQZ1",
    "outputId": "a6722b62-027e-45ab-a193-bad41927327a"
   },
   "outputs": [
    {
     "data": {
      "application/vnd.jupyter.widget-view+json": {
       "model_id": "5966b10924e74277ab6a77f13e908222",
       "version_major": 2,
       "version_minor": 0
      },
      "text/plain": [
       "Map:   0%|          | 0/1428 [00:00<?, ? examples/s]"
      ]
     },
     "metadata": {},
     "output_type": "display_data"
    },
    {
     "data": {
      "application/vnd.jupyter.widget-view+json": {
       "model_id": "29a04d6e750c4337935b3ea07396a149",
       "version_major": 2,
       "version_minor": 0
      },
      "text/plain": [
       "Map:   0%|          | 0/357 [00:00<?, ? examples/s]"
      ]
     },
     "metadata": {},
     "output_type": "display_data"
    }
   ],
   "source": [
    "twitter_dataset = twitter_dataset.map(lambda x: {\"label\": label_map_1[x[\"majority_sentiment\"]]})"
   ]
  },
  {
   "cell_type": "code",
   "execution_count": 9,
   "metadata": {
    "colab": {
     "base_uri": "https://localhost:8080/",
     "height": 81,
     "referenced_widgets": [
      "b4b68f3cc5424452a09780102984b691",
      "94ab134f72654822a6ba4c61244dee70",
      "37aa580134504c879576c489aebd9af3",
      "f54de9d87e3a40a0892ff12967f44366",
      "c15a3d2238664c069c488abf02a0de90",
      "80edd47a252341d1b81d737f0dcd1fd6",
      "cd57a11949d24291aa38e07e97c6111f",
      "f869a17a39d4431087c272b201e9d9b9",
      "2853e1b4ef454943b8641db11bde4b69",
      "70ceb4203ebd4b33b7d4ef717e941d84",
      "5a918c3e25d64c72a3b959d0ae03b243",
      "364a6f9d1fa14d2eb8a5f1c47d45d861",
      "504bcbcd45694cfc86c518a9f6e5fb78",
      "4d55b37e537341fdaba69153131b8d60",
      "67864a19888a46d7903a2a3cd3d996a4",
      "1bdf1eed40f44691a718ce637b610d6c",
      "a86dccc6b9d74e6c91f0e89ae6a08bd2",
      "008a912c7d924ab0b996725948e86788",
      "b14f5778717748b7a84a9614d3d5e5ae",
      "3b3b0b90b97740f68fd45826a40e214b",
      "8447f20b539e4273b132146367d3c027",
      "dfafe9c0f98b4729b3bb556d8ce98c6e"
     ]
    },
    "id": "JLK-O-c2mZpx",
    "outputId": "77bd382a-9267-48f4-eac9-48e14ca41172"
   },
   "outputs": [
    {
     "data": {
      "application/vnd.jupyter.widget-view+json": {
       "model_id": "b4b68f3cc5424452a09780102984b691",
       "version_major": 2,
       "version_minor": 0
      },
      "text/plain": [
       "Map:   0%|          | 0/19432 [00:00<?, ? examples/s]"
      ]
     },
     "metadata": {},
     "output_type": "display_data"
    },
    {
     "data": {
      "application/vnd.jupyter.widget-view+json": {
       "model_id": "364a6f9d1fa14d2eb8a5f1c47d45d861",
       "version_major": 2,
       "version_minor": 0
      },
      "text/plain": [
       "Map:   0%|          | 0/2566 [00:00<?, ? examples/s]"
      ]
     },
     "metadata": {},
     "output_type": "display_data"
    }
   ],
   "source": [
    "germeval_17_dataset = germeval_17_dataset.map(lambda x: {\"label\": label_map_2[x[\"sentiment\"]]})"
   ]
  },
  {
   "cell_type": "code",
   "execution_count": 10,
   "metadata": {
    "id": "t-zXmeO-miwU"
   },
   "outputs": [],
   "source": [
    "#delete unnecessary columns\n",
    "twitter_dataset = twitter_dataset.remove_columns([\"ID\", \"majority_sentiment\"])"
   ]
  },
  {
   "cell_type": "code",
   "execution_count": 11,
   "metadata": {
    "id": "DtzWOxmomp50"
   },
   "outputs": [],
   "source": [
    "germeval_17_dataset = germeval_17_dataset.remove_columns([\"id\", \"relevance\", \"sentiment\"])"
   ]
  },
  {
   "cell_type": "code",
   "execution_count": 12,
   "metadata": {
    "colab": {
     "base_uri": "https://localhost:8080/"
    },
    "id": "Rdy-cIHgmwdF",
    "outputId": "f1fb1844-6975-446f-d77b-e7fe2c24aaa2"
   },
   "outputs": [
    {
     "name": "stdout",
     "output_type": "stream",
     "text": [
      "DatasetDict({\n",
      "    train: Dataset({\n",
      "        features: ['text', 'label'],\n",
      "        num_rows: 1428\n",
      "    })\n",
      "    test: Dataset({\n",
      "        features: ['text', 'label'],\n",
      "        num_rows: 357\n",
      "    })\n",
      "})\n",
      "DatasetDict({\n",
      "    train: Dataset({\n",
      "        features: ['text', 'label'],\n",
      "        num_rows: 19432\n",
      "    })\n",
      "    test: Dataset({\n",
      "        features: ['text', 'label'],\n",
      "        num_rows: 2566\n",
      "    })\n",
      "})\n"
     ]
    }
   ],
   "source": [
    "print(twitter_dataset)\n",
    "print(germeval_17_dataset)"
   ]
  },
  {
   "cell_type": "code",
   "execution_count": 13,
   "metadata": {
    "id": "uA40EKTMnEqF"
   },
   "outputs": [],
   "source": [
    "from datasets import concatenate_datasets"
   ]
  },
  {
   "cell_type": "code",
   "execution_count": 14,
   "metadata": {
    "id": "hZKu6hFmm3QB"
   },
   "outputs": [],
   "source": [
    "#Merge datasets, divided into train and test split\n",
    "combined_train = concatenate_datasets([twitter_dataset[\"train\"], germeval_17_dataset[\"train\"]])\n",
    "combined_test = concatenate_datasets([twitter_dataset[\"test\"], germeval_17_dataset[\"test\"]])"
   ]
  },
  {
   "cell_type": "code",
   "execution_count": 15,
   "metadata": {
    "id": "jnQWPf1tnJYL"
   },
   "outputs": [],
   "source": [
    "combined_dataset = {\"train\": combined_train, \"test\": combined_test}"
   ]
  },
  {
   "cell_type": "code",
   "execution_count": 16,
   "metadata": {
    "colab": {
     "base_uri": "https://localhost:8080/",
     "height": 113,
     "referenced_widgets": [
      "5d8e96f5d82b445e94d293ae1d3756e1",
      "ece9b650bde74b8f81f911b4d0db81d3",
      "007a9f92f3bc4875bbf9593b6fdc9210",
      "f497f3c17d5342eb853e0bfeafcc3682",
      "5eaffa71902345b4a668784b67958b95",
      "38c1decf91bc4821b09fe83927059518",
      "52b369392c934290b59eb39f3da31752",
      "815aebbc897b4004889d386c2236b8e4",
      "b4918a4eb8b5440ea290766abb8c83d2",
      "baa64255f4074ef285fea25a8e15ff73",
      "dbb64eb40cce47b4b1a7f00a6ef3e8ed",
      "23355b13f80342979ebbfe13b638d69d",
      "22fd2e70b9b9436cb52d0c8764d28ebf",
      "c139f9ea92f2482aadf9bd29837c830c",
      "bd335856cb01487faaeced6f5728dbed",
      "07d13920e61c41fa8d4d3b7094d8bc93",
      "bc058e979921428f864a5de160043fbb",
      "13bfb5ba5b804ca98fc667ece0c25f60",
      "552d1421aaf3423ca665872c1b7f0af1",
      "85ce5232afa846df904270381445683a",
      "0868f254158547c98b08dba813da5ab4",
      "0a08de70d25048d0ae97154072f45421",
      "66ae3113755d4f99861c29600b7d3603",
      "47b6753c72d144178fb78b8d6ee63c65",
      "ec74ada967284335a86492e235979a43",
      "c5902738d8934e828cd3edaa6494b381",
      "bf0f87166cb443dea8132da88423ef6b",
      "04050ee9ddc046bd891832f1d0d354c8",
      "8b7475dceb6848a981c0081a7b1f3d59",
      "6b141b1785d04d5681320f0adb53d471",
      "b02f0767a9aa4cbc94bb167db7aa1978",
      "cc682cdd223549f18620adfb562e837d",
      "f9084471e79e4013a0ff0dd53c326d53"
     ]
    },
    "id": "hgxrf2PLnUeE",
    "outputId": "098ca270-5d77-4f9e-e605-f735835d97e4"
   },
   "outputs": [
    {
     "data": {
      "application/vnd.jupyter.widget-view+json": {
       "model_id": "5d8e96f5d82b445e94d293ae1d3756e1",
       "version_major": 2,
       "version_minor": 0
      },
      "text/plain": [
       "tokenizer_config.json:   0%|          | 0.00/83.0 [00:00<?, ?B/s]"
      ]
     },
     "metadata": {},
     "output_type": "display_data"
    },
    {
     "data": {
      "application/vnd.jupyter.widget-view+json": {
       "model_id": "23355b13f80342979ebbfe13b638d69d",
       "version_major": 2,
       "version_minor": 0
      },
      "text/plain": [
       "config.json:   0%|          | 0.00/362 [00:00<?, ?B/s]"
      ]
     },
     "metadata": {},
     "output_type": "display_data"
    },
    {
     "data": {
      "application/vnd.jupyter.widget-view+json": {
       "model_id": "66ae3113755d4f99861c29600b7d3603",
       "version_major": 2,
       "version_minor": 0
      },
      "text/plain": [
       "vocab.txt:   0%|          | 0.00/240k [00:00<?, ?B/s]"
      ]
     },
     "metadata": {},
     "output_type": "display_data"
    }
   ],
   "source": [
    "model_name = \"deepset/gbert-base\"\n",
    "tokenizer = AutoTokenizer.from_pretrained(model_name)"
   ]
  },
  {
   "cell_type": "code",
   "execution_count": 17,
   "metadata": {
    "id": "zrTRIiMnnZ3p"
   },
   "outputs": [],
   "source": [
    "#tokenize data\n",
    "def tokenize_function(examples):\n",
    "    examples[\"text\"] = [str(text) for text in examples[\"text\"]]\n",
    "    return tokenizer(examples[\"text\"], truncation=True, padding=True, max_length=128)"
   ]
  },
  {
   "cell_type": "code",
   "execution_count": 18,
   "metadata": {
    "colab": {
     "base_uri": "https://localhost:8080/",
     "height": 81,
     "referenced_widgets": [
      "ad5a3d8565254a89854e07c4fada3c69",
      "171b54c7246345ba98f3e4e90b9d61b2",
      "3779db964f694e63947e692051c522a1",
      "6a024699b42c4d0a8595d47bac333727",
      "728f647433624f529ec2e674247408fe",
      "a25d5dff9c2d46dbbeaba5274365ee86",
      "639b393a44484afa8735c4fbd7cd9eed",
      "eda9ab1e37af4546a60a5fe0788e91c4",
      "925a3622c9e04519b4a4b028c4772ea9",
      "d399ea1f785c4374a5921460f8012361",
      "5464eaaf001b40f38e79b36a09c6060b",
      "cbdef36aa4d843d7a040dc2e86b02067",
      "f84df68941a04d9dbc0b9e368b218720",
      "04547ed339814485aa1d2bce334bfc3d",
      "e5f3c7e85f3c47c698af34cd83e355d1",
      "e0e932ec6ed040eba8ccaf244c8b4676",
      "5780de61f61140729fcb09b4c0149eec",
      "bfaef44ef0c24998a35d59e316c2eadf",
      "2a19aba09760457f88b0b24fa1733c58",
      "e8fdd1de93664ed5a451e44ec284717e",
      "1eed17eadab64402a9465bcc0bd518ed",
      "6eef4fe08304457b8096ad0542b316b8"
     ]
    },
    "id": "Sukz8zypngWe",
    "outputId": "c36cc2bc-05d2-4769-93da-1664beed131d"
   },
   "outputs": [
    {
     "data": {
      "application/vnd.jupyter.widget-view+json": {
       "model_id": "ad5a3d8565254a89854e07c4fada3c69",
       "version_major": 2,
       "version_minor": 0
      },
      "text/plain": [
       "Map:   0%|          | 0/20860 [00:00<?, ? examples/s]"
      ]
     },
     "metadata": {},
     "output_type": "display_data"
    },
    {
     "data": {
      "application/vnd.jupyter.widget-view+json": {
       "model_id": "cbdef36aa4d843d7a040dc2e86b02067",
       "version_major": 2,
       "version_minor": 0
      },
      "text/plain": [
       "Map:   0%|          | 0/2923 [00:00<?, ? examples/s]"
      ]
     },
     "metadata": {},
     "output_type": "display_data"
    }
   ],
   "source": [
    "tokenized_datasets = {split: combined_dataset[split].map(tokenize_function, batched=True) for split in [\"train\", \"test\"]}"
   ]
  },
  {
   "cell_type": "code",
   "execution_count": 19,
   "metadata": {
    "id": "LUKk5qF5n4w8"
   },
   "outputs": [],
   "source": [
    "#Convert to pytorch tensors for the model\n",
    "tokenized_datasets[\"train\"].set_format(type=\"torch\", columns=[\"input_ids\", \"attention_mask\", \"label\"])\n",
    "tokenized_datasets[\"test\"].set_format(type=\"torch\", columns=[\"input_ids\", \"attention_mask\", \"label\"])"
   ]
  },
  {
   "cell_type": "code",
   "execution_count": 20,
   "metadata": {
    "colab": {
     "base_uri": "https://localhost:8080/",
     "height": 103,
     "referenced_widgets": [
      "ea1fbfd8070543e9bb5f4e79d999474f",
      "e7ae9680ce594171b1328ad106ffe43a",
      "607516becf3b4061bd44eadde3c58bac",
      "8c3c808a17e544fd81292e704ab74bbd",
      "eb7d8414a76d4cd7b9aae3dd92b43924",
      "04808042f1d54b23979ce0c4567db82c",
      "9a67b393907241c7858b9c42c83e9714",
      "9e28e7974bab4711a99a5fdf20a346c2",
      "613922dc037c4bc7a506d696071a8ef7",
      "523f13cb135e48d9a35c7b2c4a746c69",
      "571ffc4bd8564c179de3f4c12c228789"
     ]
    },
    "id": "HMj7Ix8gn80k",
    "outputId": "6baa25da-01d3-4b68-f4c2-e9b8bd79fb12"
   },
   "outputs": [
    {
     "data": {
      "application/vnd.jupyter.widget-view+json": {
       "model_id": "ea1fbfd8070543e9bb5f4e79d999474f",
       "version_major": 2,
       "version_minor": 0
      },
      "text/plain": [
       "model.safetensors:   0%|          | 0.00/442M [00:00<?, ?B/s]"
      ]
     },
     "metadata": {},
     "output_type": "display_data"
    },
    {
     "name": "stderr",
     "output_type": "stream",
     "text": [
      "Some weights of BertForSequenceClassification were not initialized from the model checkpoint at deepset/gbert-base and are newly initialized: ['classifier.bias', 'classifier.weight']\n",
      "You should probably TRAIN this model on a down-stream task to be able to use it for predictions and inference.\n"
     ]
    }
   ],
   "source": [
    "model = AutoModelForSequenceClassification.from_pretrained(model_name, num_labels=3)"
   ]
  },
  {
   "cell_type": "code",
   "execution_count": 21,
   "metadata": {
    "id": "LhVrjKFnoCRj"
   },
   "outputs": [],
   "source": [
    "data_collator = DataCollatorWithPadding(tokenizer=tokenizer, return_tensors=\"pt\")"
   ]
  },
  {
   "cell_type": "code",
   "execution_count": 22,
   "metadata": {
    "id": "tTJGVTkgoI_P"
   },
   "outputs": [],
   "source": [
    "#Defining training and evaluation parameters\n",
    "def compute_metrics(pred):\n",
    "  labels = pred.label_ids\n",
    "  preds = pred.predictions.argmax(-1)\n",
    "  f1 = f1_score(labels, preds, average=\"macro\")\n",
    "  acc = accuracy_score(labels, preds)\n",
    "  precision = precision_score(labels, preds, average=\"macro\")\n",
    "  recall = recall_score(labels, preds, average=\"macro\")\n",
    "  return {\"precision\": precision, \"recall\": recall, \"acc\": acc, \"f1\": f1}"
   ]
  },
  {
   "cell_type": "code",
   "execution_count": 23,
   "metadata": {
    "colab": {
     "base_uri": "https://localhost:8080/"
    },
    "id": "fovx92MwoMI5",
    "outputId": "c2f275ea-64ae-4324-995a-660e40fc7bc7"
   },
   "outputs": [
    {
     "name": "stderr",
     "output_type": "stream",
     "text": [
      "/usr/local/lib/python3.11/dist-packages/transformers/training_args.py:1575: FutureWarning: `evaluation_strategy` is deprecated and will be removed in version 4.46 of 🤗 Transformers. Use `eval_strategy` instead\n",
      "  warnings.warn(\n"
     ]
    }
   ],
   "source": [
    "batch_size = 16\n",
    "logging_steps = len(tokenized_datasets[\"train\"]) // batch_size\n",
    "model_name = f\"{model_name}-finetuned-twitter_germeval_17\"\n",
    "training_args = TrainingArguments(output_dir = model_name,\n",
    "                                  num_train_epochs = 4,\n",
    "                                  learning_rate = 2e-5,\n",
    "                                  logging_dir=None,\n",
    "                                  logging_strategy=\"no\",\n",
    "                                  report_to=None,\n",
    "                                  per_device_train_batch_size = batch_size,\n",
    "                                  per_device_eval_batch_size = batch_size,\n",
    "                                  evaluation_strategy=\"no\",\n",
    "                                  disable_tqdm = False,\n",
    "                                  logging_steps = logging_steps,\n",
    "                                  log_level=\"info\")"
   ]
  },
  {
   "cell_type": "code",
   "execution_count": 24,
   "metadata": {
    "colab": {
     "base_uri": "https://localhost:8080/"
    },
    "id": "800651zpotv2",
    "outputId": "c6aa3829-fb4f-4efd-9228-e5f8594a76b6"
   },
   "outputs": [
    {
     "name": "stderr",
     "output_type": "stream",
     "text": [
      "<ipython-input-24-f64558798303>:1: FutureWarning: `tokenizer` is deprecated and will be removed in version 5.0.0 for `Trainer.__init__`. Use `processing_class` instead.\n",
      "  trainer = Trainer(\n"
     ]
    }
   ],
   "source": [
    "trainer = Trainer(\n",
    "    model = model,\n",
    "    args = training_args,\n",
    "    compute_metrics = compute_metrics,\n",
    "    train_dataset=tokenized_datasets[\"train\"],\n",
    "    data_collator=data_collator,\n",
    "    tokenizer=tokenizer,\n",
    ")"
   ]
  },
  {
   "cell_type": "code",
   "execution_count": 25,
   "metadata": {
    "colab": {
     "base_uri": "https://localhost:8080/",
     "height": 35
    },
    "id": "IHLHGST8o1G7",
    "outputId": "6a626c44-3ffb-435e-9b20-620a1ebea20a"
   },
   "outputs": [
    {
     "data": {
      "text/html": [
       "<button onClick=\"this.nextSibling.style.display='block';this.style.display='none';\">Display W&B run</button><iframe src='https://wandb.ai/dummy/dummy/runs/po04ehnz?jupyter=true' style='border:none;width:100%;height:420px;display:none;'></iframe>"
      ],
      "text/plain": [
       "<wandb.sdk.wandb_run.Run at 0x7f55dd224850>"
      ]
     },
     "execution_count": 25,
     "metadata": {},
     "output_type": "execute_result"
    }
   ],
   "source": [
    "import wandb\n",
    "wandb.init(mode=\"disabled\")"
   ]
  },
  {
   "cell_type": "code",
   "execution_count": 26,
   "metadata": {
    "colab": {
     "base_uri": "https://localhost:8080/",
     "height": 1000
    },
    "id": "MsEBRp1Ro4mF",
    "outputId": "c45b65b6-ac91-481e-d9c5-83fd849f1907"
   },
   "outputs": [
    {
     "name": "stderr",
     "output_type": "stream",
     "text": [
      "The following columns in the training set don't have a corresponding argument in `BertForSequenceClassification.forward` and have been ignored: text. If text are not expected by `BertForSequenceClassification.forward`,  you can safely ignore this message.\n",
      "***** Running training *****\n",
      "  Num examples = 20,860\n",
      "  Num Epochs = 4\n",
      "  Instantaneous batch size per device = 16\n",
      "  Total train batch size (w. parallel, distributed & accumulation) = 16\n",
      "  Gradient Accumulation steps = 1\n",
      "  Total optimization steps = 5,216\n",
      "  Number of trainable parameters = 109,929,987\n",
      "Automatic Weights & Biases logging enabled, to disable set os.environ[\"WANDB_DISABLED\"] = \"true\"\n",
      "\u001b[34m\u001b[1mwandb\u001b[0m: \u001b[33mWARNING\u001b[0m The `run_name` is currently set to the same value as `TrainingArguments.output_dir`. If this was not intended, please specify a different run name by setting the `TrainingArguments.run_name` parameter.\n"
     ]
    },
    {
     "data": {
      "text/html": [
       "\n",
       "    <div>\n",
       "      \n",
       "      <progress value='5216' max='5216' style='width:300px; height:20px; vertical-align: middle;'></progress>\n",
       "      [5216/5216 32:53, Epoch 4/4]\n",
       "    </div>\n",
       "    <table border=\"1\" class=\"dataframe\">\n",
       "  <thead>\n",
       " <tr style=\"text-align: left;\">\n",
       "      <th>Step</th>\n",
       "      <th>Training Loss</th>\n",
       "    </tr>\n",
       "  </thead>\n",
       "  <tbody>\n",
       "  </tbody>\n",
       "</table><p>"
      ],
      "text/plain": [
       "<IPython.core.display.HTML object>"
      ]
     },
     "metadata": {},
     "output_type": "display_data"
    },
    {
     "name": "stderr",
     "output_type": "stream",
     "text": [
      "Saving model checkpoint to deepset/gbert-base-finetuned-twitter_germeval_17/checkpoint-500\n",
      "Configuration saved in deepset/gbert-base-finetuned-twitter_germeval_17/checkpoint-500/config.json\n",
      "Model weights saved in deepset/gbert-base-finetuned-twitter_germeval_17/checkpoint-500/model.safetensors\n",
      "tokenizer config file saved in deepset/gbert-base-finetuned-twitter_germeval_17/checkpoint-500/tokenizer_config.json\n",
      "Special tokens file saved in deepset/gbert-base-finetuned-twitter_germeval_17/checkpoint-500/special_tokens_map.json\n",
      "Saving model checkpoint to deepset/gbert-base-finetuned-twitter_germeval_17/checkpoint-1000\n",
      "Configuration saved in deepset/gbert-base-finetuned-twitter_germeval_17/checkpoint-1000/config.json\n",
      "Model weights saved in deepset/gbert-base-finetuned-twitter_germeval_17/checkpoint-1000/model.safetensors\n",
      "tokenizer config file saved in deepset/gbert-base-finetuned-twitter_germeval_17/checkpoint-1000/tokenizer_config.json\n",
      "Special tokens file saved in deepset/gbert-base-finetuned-twitter_germeval_17/checkpoint-1000/special_tokens_map.json\n",
      "Saving model checkpoint to deepset/gbert-base-finetuned-twitter_germeval_17/checkpoint-1500\n",
      "Configuration saved in deepset/gbert-base-finetuned-twitter_germeval_17/checkpoint-1500/config.json\n",
      "Model weights saved in deepset/gbert-base-finetuned-twitter_germeval_17/checkpoint-1500/model.safetensors\n",
      "tokenizer config file saved in deepset/gbert-base-finetuned-twitter_germeval_17/checkpoint-1500/tokenizer_config.json\n",
      "Special tokens file saved in deepset/gbert-base-finetuned-twitter_germeval_17/checkpoint-1500/special_tokens_map.json\n",
      "Saving model checkpoint to deepset/gbert-base-finetuned-twitter_germeval_17/checkpoint-2000\n",
      "Configuration saved in deepset/gbert-base-finetuned-twitter_germeval_17/checkpoint-2000/config.json\n",
      "Model weights saved in deepset/gbert-base-finetuned-twitter_germeval_17/checkpoint-2000/model.safetensors\n",
      "tokenizer config file saved in deepset/gbert-base-finetuned-twitter_germeval_17/checkpoint-2000/tokenizer_config.json\n",
      "Special tokens file saved in deepset/gbert-base-finetuned-twitter_germeval_17/checkpoint-2000/special_tokens_map.json\n",
      "Saving model checkpoint to deepset/gbert-base-finetuned-twitter_germeval_17/checkpoint-2500\n",
      "Configuration saved in deepset/gbert-base-finetuned-twitter_germeval_17/checkpoint-2500/config.json\n",
      "Model weights saved in deepset/gbert-base-finetuned-twitter_germeval_17/checkpoint-2500/model.safetensors\n",
      "tokenizer config file saved in deepset/gbert-base-finetuned-twitter_germeval_17/checkpoint-2500/tokenizer_config.json\n",
      "Special tokens file saved in deepset/gbert-base-finetuned-twitter_germeval_17/checkpoint-2500/special_tokens_map.json\n",
      "Saving model checkpoint to deepset/gbert-base-finetuned-twitter_germeval_17/checkpoint-3000\n",
      "Configuration saved in deepset/gbert-base-finetuned-twitter_germeval_17/checkpoint-3000/config.json\n",
      "Model weights saved in deepset/gbert-base-finetuned-twitter_germeval_17/checkpoint-3000/model.safetensors\n",
      "tokenizer config file saved in deepset/gbert-base-finetuned-twitter_germeval_17/checkpoint-3000/tokenizer_config.json\n",
      "Special tokens file saved in deepset/gbert-base-finetuned-twitter_germeval_17/checkpoint-3000/special_tokens_map.json\n",
      "Saving model checkpoint to deepset/gbert-base-finetuned-twitter_germeval_17/checkpoint-3500\n",
      "Configuration saved in deepset/gbert-base-finetuned-twitter_germeval_17/checkpoint-3500/config.json\n",
      "Model weights saved in deepset/gbert-base-finetuned-twitter_germeval_17/checkpoint-3500/model.safetensors\n",
      "tokenizer config file saved in deepset/gbert-base-finetuned-twitter_germeval_17/checkpoint-3500/tokenizer_config.json\n",
      "Special tokens file saved in deepset/gbert-base-finetuned-twitter_germeval_17/checkpoint-3500/special_tokens_map.json\n",
      "Saving model checkpoint to deepset/gbert-base-finetuned-twitter_germeval_17/checkpoint-4000\n",
      "Configuration saved in deepset/gbert-base-finetuned-twitter_germeval_17/checkpoint-4000/config.json\n",
      "Model weights saved in deepset/gbert-base-finetuned-twitter_germeval_17/checkpoint-4000/model.safetensors\n",
      "tokenizer config file saved in deepset/gbert-base-finetuned-twitter_germeval_17/checkpoint-4000/tokenizer_config.json\n",
      "Special tokens file saved in deepset/gbert-base-finetuned-twitter_germeval_17/checkpoint-4000/special_tokens_map.json\n",
      "Saving model checkpoint to deepset/gbert-base-finetuned-twitter_germeval_17/checkpoint-4500\n",
      "Configuration saved in deepset/gbert-base-finetuned-twitter_germeval_17/checkpoint-4500/config.json\n",
      "Model weights saved in deepset/gbert-base-finetuned-twitter_germeval_17/checkpoint-4500/model.safetensors\n",
      "tokenizer config file saved in deepset/gbert-base-finetuned-twitter_germeval_17/checkpoint-4500/tokenizer_config.json\n",
      "Special tokens file saved in deepset/gbert-base-finetuned-twitter_germeval_17/checkpoint-4500/special_tokens_map.json\n",
      "Saving model checkpoint to deepset/gbert-base-finetuned-twitter_germeval_17/checkpoint-5000\n",
      "Configuration saved in deepset/gbert-base-finetuned-twitter_germeval_17/checkpoint-5000/config.json\n",
      "Model weights saved in deepset/gbert-base-finetuned-twitter_germeval_17/checkpoint-5000/model.safetensors\n",
      "tokenizer config file saved in deepset/gbert-base-finetuned-twitter_germeval_17/checkpoint-5000/tokenizer_config.json\n",
      "Special tokens file saved in deepset/gbert-base-finetuned-twitter_germeval_17/checkpoint-5000/special_tokens_map.json\n",
      "Saving model checkpoint to deepset/gbert-base-finetuned-twitter_germeval_17/checkpoint-5216\n",
      "Configuration saved in deepset/gbert-base-finetuned-twitter_germeval_17/checkpoint-5216/config.json\n",
      "Model weights saved in deepset/gbert-base-finetuned-twitter_germeval_17/checkpoint-5216/model.safetensors\n",
      "tokenizer config file saved in deepset/gbert-base-finetuned-twitter_germeval_17/checkpoint-5216/tokenizer_config.json\n",
      "Special tokens file saved in deepset/gbert-base-finetuned-twitter_germeval_17/checkpoint-5216/special_tokens_map.json\n",
      "\n",
      "\n",
      "Training completed. Do not forget to share your model on huggingface.co/models =)\n",
      "\n",
      "\n"
     ]
    },
    {
     "data": {
      "text/plain": [
       "TrainOutput(global_step=5216, training_loss=0.29757011741216927, metrics={'train_runtime': 1974.6759, 'train_samples_per_second': 42.255, 'train_steps_per_second': 2.641, 'total_flos': 5488545893806080.0, 'train_loss': 0.29757011741216927, 'epoch': 4.0})"
      ]
     },
     "execution_count": 26,
     "metadata": {},
     "output_type": "execute_result"
    }
   ],
   "source": [
    "trainer.train()"
   ]
  },
  {
   "cell_type": "code",
   "execution_count": 27,
   "metadata": {
    "colab": {
     "base_uri": "https://localhost:8080/",
     "height": 142
    },
    "id": "dLoGED5dDmay",
    "outputId": "c0d464c9-33f1-4560-b120-07f820bb1745"
   },
   "outputs": [
    {
     "name": "stderr",
     "output_type": "stream",
     "text": [
      "The following columns in the evaluation set don't have a corresponding argument in `BertForSequenceClassification.forward` and have been ignored: text. If text are not expected by `BertForSequenceClassification.forward`,  you can safely ignore this message.\n",
      "\n",
      "***** Running Evaluation *****\n",
      "  Num examples = 2923\n",
      "  Batch size = 16\n"
     ]
    },
    {
     "data": {
      "text/html": [
       "\n",
       "    <div>\n",
       "      \n",
       "      <progress value='183' max='183' style='width:300px; height:20px; vertical-align: middle;'></progress>\n",
       "      [183/183 00:20]\n",
       "    </div>\n",
       "    "
      ],
      "text/plain": [
       "<IPython.core.display.HTML object>"
      ]
     },
     "metadata": {},
     "output_type": "display_data"
    }
   ],
   "source": [
    "#evaluation on testplit\n",
    "eval_results = trainer.evaluate(tokenized_datasets[\"test\"])"
   ]
  },
  {
   "cell_type": "code",
   "execution_count": 28,
   "metadata": {
    "id": "fWOy4gxFD7ah"
   },
   "outputs": [],
   "source": [
    "eval_results_df = pd.DataFrame([eval_results])"
   ]
  },
  {
   "cell_type": "code",
   "execution_count": 29,
   "metadata": {
    "colab": {
     "base_uri": "https://localhost:8080/"
    },
    "id": "oZkjFbaLD-8j",
    "outputId": "8eddbb62-484c-4076-d437-bb408f50123e"
   },
   "outputs": [
    {
     "name": "stdout",
     "output_type": "stream",
     "text": [
      "   eval_loss  eval_precision  eval_recall  eval_acc   eval_f1  eval_runtime  \\\n",
      "0    0.84022        0.724311      0.72776  0.799179  0.725919       20.7782   \n",
      "\n",
      "   eval_samples_per_second  eval_steps_per_second  epoch  \n",
      "0                  140.676                  8.807    4.0  \n"
     ]
    }
   ],
   "source": [
    "print(eval_results_df)"
   ]
  },
  {
   "cell_type": "code",
   "execution_count": 30,
   "metadata": {
    "colab": {
     "base_uri": "https://localhost:8080/"
    },
    "id": "YBfl_Yb4EISL",
    "outputId": "9b2af8dd-990c-4bae-d2c1-770cf67602a4"
   },
   "outputs": [
    {
     "name": "stderr",
     "output_type": "stream",
     "text": [
      "Configuration saved in /content/gbert_finetuned_twitter&germeval17/config.json\n",
      "Model weights saved in /content/gbert_finetuned_twitter&germeval17/model.safetensors\n",
      "tokenizer config file saved in /content/gbert_finetuned_twitter&germeval17/tokenizer_config.json\n",
      "Special tokens file saved in /content/gbert_finetuned_twitter&germeval17/special_tokens_map.json\n"
     ]
    },
    {
     "data": {
      "text/plain": [
       "('/content/gbert_finetuned_twitter&germeval17/tokenizer_config.json',\n",
       " '/content/gbert_finetuned_twitter&germeval17/special_tokens_map.json',\n",
       " '/content/gbert_finetuned_twitter&germeval17/vocab.txt',\n",
       " '/content/gbert_finetuned_twitter&germeval17/added_tokens.json',\n",
       " '/content/gbert_finetuned_twitter&germeval17/tokenizer.json')"
      ]
     },
     "execution_count": 30,
     "metadata": {},
     "output_type": "execute_result"
    }
   ],
   "source": [
    "#save the model\n",
    "model_path = \"/content/gbert_finetuned_twitter&germeval17\"\n",
    "model.save_pretrained(model_path)\n",
    "tokenizer.save_pretrained(model_path)"
   ]
  },
  {
   "cell_type": "code",
   "execution_count": 31,
   "metadata": {
    "id": "nTftx6H4EeyC"
   },
   "outputs": [],
   "source": [
    "import shutil\n",
    "from google.colab import files"
   ]
  },
  {
   "cell_type": "code",
   "execution_count": 32,
   "metadata": {
    "colab": {
     "base_uri": "https://localhost:8080/",
     "height": 35
    },
    "id": "fQgm40EUEhuF",
    "outputId": "1830e7e2-1325-4ee6-a5e0-355c40e6e1bd"
   },
   "outputs": [
    {
     "data": {
      "application/vnd.google.colaboratory.intrinsic+json": {
       "type": "string"
      },
      "text/plain": [
       "'/content/gbert_finetuned_twitter&germeval17.zip'"
      ]
     },
     "execution_count": 32,
     "metadata": {},
     "output_type": "execute_result"
    }
   ],
   "source": [
    "shutil.make_archive(\"/content/gbert_finetuned_twitter&germeval17\", 'zip', \"/content/gbert_finetuned_twitter&germeval17\")"
   ]
  },
  {
   "cell_type": "code",
   "execution_count": 33,
   "metadata": {
    "colab": {
     "base_uri": "https://localhost:8080/",
     "height": 17
    },
    "id": "r5XHWAm7EtTN",
    "outputId": "d87337cb-4e9b-444e-da1c-1a190cfb4fd0"
   },
   "outputs": [
    {
     "data": {
      "application/javascript": [
       "\n",
       "    async function download(id, filename, size) {\n",
       "      if (!google.colab.kernel.accessAllowed) {\n",
       "        return;\n",
       "      }\n",
       "      const div = document.createElement('div');\n",
       "      const label = document.createElement('label');\n",
       "      label.textContent = `Downloading \"${filename}\": `;\n",
       "      div.appendChild(label);\n",
       "      const progress = document.createElement('progress');\n",
       "      progress.max = size;\n",
       "      div.appendChild(progress);\n",
       "      document.body.appendChild(div);\n",
       "\n",
       "      const buffers = [];\n",
       "      let downloaded = 0;\n",
       "\n",
       "      const channel = await google.colab.kernel.comms.open(id);\n",
       "      // Send a message to notify the kernel that we're ready.\n",
       "      channel.send({})\n",
       "\n",
       "      for await (const message of channel.messages) {\n",
       "        // Send a message to notify the kernel that we're ready.\n",
       "        channel.send({})\n",
       "        if (message.buffers) {\n",
       "          for (const buffer of message.buffers) {\n",
       "            buffers.push(buffer);\n",
       "            downloaded += buffer.byteLength;\n",
       "            progress.value = downloaded;\n",
       "          }\n",
       "        }\n",
       "      }\n",
       "      const blob = new Blob(buffers, {type: 'application/binary'});\n",
       "      const a = document.createElement('a');\n",
       "      a.href = window.URL.createObjectURL(blob);\n",
       "      a.download = filename;\n",
       "      div.appendChild(a);\n",
       "      a.click();\n",
       "      div.remove();\n",
       "    }\n",
       "  "
      ],
      "text/plain": [
       "<IPython.core.display.Javascript object>"
      ]
     },
     "metadata": {},
     "output_type": "display_data"
    },
    {
     "data": {
      "application/javascript": [
       "download(\"download_9d41018f-e8a2-4edb-a905-a330b70fa66c\", \"gbert_finetuned_twitter&germeval17.zip\", 408479079)"
      ],
      "text/plain": [
       "<IPython.core.display.Javascript object>"
      ]
     },
     "metadata": {},
     "output_type": "display_data"
    }
   ],
   "source": [
    "files.download(\"/content/gbert_finetuned_twitter&germeval17.zip\")"
   ]
  }
 ],
 "metadata": {
  "accelerator": "GPU",
  "colab": {
   "gpuType": "T4",
   "provenance": []
  },
  "kernelspec": {
   "display_name": "Python [conda env:base] *",
   "language": "python",
   "name": "conda-base-py"
  },
  "language_info": {
   "codemirror_mode": {
    "name": "ipython",
    "version": 3
   },
   "file_extension": ".py",
   "mimetype": "text/x-python",
   "name": "python",
   "nbconvert_exporter": "python",
   "pygments_lexer": "ipython3",
   "version": "3.11.5"
  }
 },
 "nbformat": 4,
 "nbformat_minor": 4
}
