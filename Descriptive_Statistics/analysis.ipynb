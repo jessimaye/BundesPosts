{
 "cells": [
  {
   "cell_type": "code",
   "execution_count": 2,
   "metadata": {},
   "outputs": [],
   "source": [
    "import pandas as pd"
   ]
  },
  {
   "cell_type": "code",
   "execution_count": 1,
   "metadata": {},
   "outputs": [
    {
     "name": "stdout",
     "output_type": "stream",
     "text": [
     ]
    }
   ],
   "source": [
    "%pip install openpyxl"
   ]
  },
  {
   "cell_type": "code",
   "execution_count": 30,
   "metadata": {},
   "outputs": [],
   "source": [
    "data = pd.read_excel(\"Alle_Abgeordneten.xlsx\")"
   ]
  },
  {
   "cell_type": "code",
   "execution_count": 4,
   "metadata": {},
   "outputs": [
    {
     "name": "stdout",
     "output_type": "stream",
     "text": [
      "                                          Account-Link Followers  \\\n",
      "0                https://www.instagram.com/sanae_ccaa/      3955   \n",
      "1    https://www.instagram.com/valentin_christian_a...      2189   \n",
      "2          https://www.instagram.com/knut_abraham_mdb/      1042   \n",
      "3                   https://www.instagram.com/katj_ad/      2247   \n",
      "4         https://www.instagram.com/stephanie_aeffner/      2226   \n",
      "..                                                 ...       ...   \n",
      "745                https://www.instagram.com/jenszspd/      3851   \n",
      "746             https://www.instagram.com/n_zippelius/      3172   \n",
      "747             https://www.instagram.com/armand_zorn/     19600   \n",
      "748           https://www.instagram.com/katrin.zschau/      1580   \n",
      "749           https://www.instagram.com/bundeskanzler/       NaN   \n",
      "\n",
      "                             Name   Lebensdaten   \\\n",
      "0                      Sanae Abdi         1986.0   \n",
      "1                   Valentin Abel         1991.0   \n",
      "2                    Knut Abraham         1966.0   \n",
      "3                     Katja Adler         1974.0   \n",
      "4               Stephanie Aeffner         1976.0   \n",
      "..                             ...           ...   \n",
      "745               Jens Zimmermann         1981.0   \n",
      "746             Nicolas Zippelius         1987.0   \n",
      "747                   Armand Zorn         1988.0   \n",
      "748                 Katrin Zschau         1976.0   \n",
      "749  Olaf Scholz als Bundeskanzler           NaN   \n",
      "\n",
      "    Fraktion oder Gruppe (Partei)                    Land  Listenplatz   \\\n",
      "0                            SPD      Nordrhein-Westfalen     Platz 40    \n",
      "1                            FDP        Baden-Württemberg     Platz 12    \n",
      "2                  CDU/CSU (CDU)              Brandenburg      Platz 4    \n",
      "3                            FDP                   Hessen      Platz 6    \n",
      "4                          Grüne        Baden-Württemberg     Platz 15    \n",
      "..                            ...                      ...          ...   \n",
      "745                          SPD                   Hessen      Platz 7    \n",
      "746                CDU/CSU (CDU)        Baden-Württemberg            –    \n",
      "747                          SPD                   Hessen     Platz 23    \n",
      "748                          SPD   Mecklenburg-Vorpommern      Platz 4    \n",
      "749                           NaN                      NaN          NaN   \n",
      "\n",
      "                                  Wahlkreis  Erststimmenanteil   \\\n",
      "0                                    Köln I             27,9 %    \n",
      "1               Schwäbisch Hall – Hohenlohe             11,7 %    \n",
      "2    Elbe-Elster – Oberspreewald-Lausitz II             16,2 %    \n",
      "3                                Hochtaunus             11,3 %    \n",
      "4                                 Pforzheim             12,7 %    \n",
      "..                                       ...                ...   \n",
      "745                                Odenwald             32,3 %    \n",
      "746                          Karlsruhe-Land             30,4 %    \n",
      "747                             Frankfurt I             29,0 %    \n",
      "748          Rostock – Landkreis Rostock II             27,0 %    \n",
      "749                                      NaN                NaN   \n",
      "\n",
      "           Beruflicher\\nHintergrund MdB seit Bemerkungen  Unnamed: 12  \\\n",
      "0    Vertrags- und Finanzmanagerin      2021          NaN         NaN   \n",
      "1                     Betriebswirt      2021          NaN         NaN   \n",
      "2         Soldat, Jurist, Diplomat      2021          NaN         NaN   \n",
      "3            Verwaltungsfachwirtin      2021          NaN         NaN   \n",
      "4                 Sozialarbeiterin      2021          NaN         NaN   \n",
      "..                              ...      ...          ...         ...   \n",
      "745                       Kaufmann      2013          NaN         NaN   \n",
      "746         Politikwissenschaftler      2021          NaN         NaN   \n",
      "747            Unternehmensberater      2021          NaN         NaN   \n",
      "748        Landesgeschäftsführerin      2021          NaN         NaN   \n",
      "749                             NaN      NaN          NaN         NaN   \n",
      "\n",
      "    Arbeitseinteilung  Unnamed: 14  Status  \n",
      "0        Anfang Oskar          NaN     NaN  \n",
      "1                 NaN          NaN     NaN  \n",
      "2                 NaN          NaN     NaN  \n",
      "3                 NaN          NaN     NaN  \n",
      "4                 NaN          NaN     NaN  \n",
      "..                ...          ...     ...  \n",
      "745               NaN          NaN     NaN  \n",
      "746               NaN          NaN     NaN  \n",
      "747               NaN          NaN     NaN  \n",
      "748          Ende Leo          NaN     NaN  \n",
      "749               NaN          NaN     NaN  \n",
      "\n",
      "[750 rows x 16 columns]\n"
     ]
    }
   ],
   "source": [
    "print(data)"
   ]
  },
  {
   "cell_type": "code",
   "execution_count": 5,
   "metadata": {},
   "outputs": [
    {
     "data": {
      "text/plain": [
       "Fraktion oder Gruppe (Partei)\n",
       "SPD               207\n",
       "CDU/CSU (CDU)     153\n",
       "Grüne             117\n",
       "FDP                89\n",
       "AfD                76\n",
       "CDU/CSU (CSU)      43\n",
       "Die Linke          28\n",
       "BSW                10\n",
       "fraktionslos        7\n",
       "fraktionslos        2\n",
       "(AfD)               1\n",
       "FDP                 1\n",
       "(SSW)               1\n",
       "Name: count, dtype: int64"
      ]
     },
     "execution_count": 5,
     "metadata": {},
     "output_type": "execute_result"
    }
   ],
   "source": [
    "#descriptive statistics for all members of parliament\n",
    "\n",
    "data[\"Fraktion oder Gruppe (Partei)\"].value_counts()\n",
    "#(AfD) 1 and (SSW) belong to \"fraktionslos\" 2"
   ]
  },
  {
   "cell_type": "code",
   "execution_count": 8,
   "metadata": {},
   "outputs": [
    {
     "name": "stdout",
     "output_type": "stream",
     "text": [
      "count     733.000000\n",
      "mean     1973.709413\n",
      "std        11.184072\n",
      "min      1941.000000\n",
      "25%      1965.000000\n",
      "50%      1973.000000\n",
      "75%      1982.000000\n",
      "max      2000.000000\n",
      "Name: Lebensdaten , dtype: float64\n"
     ]
    }
   ],
   "source": [
    "print(data[\"Lebensdaten \"].describe())"
   ]
  },
  {
   "cell_type": "code",
   "execution_count": 10,
   "metadata": {},
   "outputs": [
    {
     "name": "stdout",
     "output_type": "stream",
     "text": [
      "count     725\n",
      "unique    676\n",
      "top         -\n",
      "freq        3\n",
      "Name: Followers, dtype: object\n"
     ]
    }
   ],
   "source": [
    "print(data[\"Followers\"].describe())"
   ]
  },
  {
   "cell_type": "code",
   "execution_count": 11,
   "metadata": {},
   "outputs": [
    {
     "data": {
      "text/plain": [
       "Account-Link                      object\n",
       "Followers                         object\n",
       "Name                              object\n",
       "Lebensdaten                      float64\n",
       "Fraktion oder Gruppe (Partei)     object\n",
       "Land                              object\n",
       "Listenplatz                       object\n",
       "Wahlkreis                         object\n",
       "Erststimmenanteil                 object\n",
       "Beruflicher\\nHintergrund          object\n",
       "MdB seit                          object\n",
       "Bemerkungen                       object\n",
       "Unnamed: 12                       object\n",
       "Arbeitseinteilung                 object\n",
       "Unnamed: 14                      float64\n",
       "Status                           float64\n",
       "dtype: object"
      ]
     },
     "execution_count": 11,
     "metadata": {},
     "output_type": "execute_result"
    }
   ],
   "source": [
    "data.dtypes"
   ]
  },
  {
   "cell_type": "code",
   "execution_count": 34,
   "metadata": {},
   "outputs": [],
   "source": [
    "# convert to numeric values\n",
    "data[\"Followers\"] = pd.to_numeric(data[\"Followers\"], errors=\"coerce\")"
   ]
  },
  {
   "cell_type": "code",
   "execution_count": 20,
   "metadata": {},
   "outputs": [
    {
     "name": "stdout",
     "output_type": "stream",
     "text": [
      "count       721.000000\n",
      "mean      10869.237171\n",
      "std       43573.253155\n",
      "min          23.000000\n",
      "25%        1634.000000\n",
      "50%        2801.000000\n",
      "75%        5168.000000\n",
      "max      611000.000000\n",
      "Name: Followers, dtype: float64\n"
     ]
    }
   ],
   "source": [
    "print(data[\"Followers\"].describe())"
   ]
  },
  {
   "cell_type": "code",
   "execution_count": 25,
   "metadata": {},
   "outputs": [
    {
     "data": {
      "text/plain": [
       "Beruflicher\\nHintergrund\n",
       "Rechtsanwalt                 58\n",
       "Politikwissenschaftler       26\n",
       "Jurist                       22\n",
       "Rechtsanwältin               21\n",
       "Volkswirt                    20\n",
       "Betriebswirt                 17\n",
       "Lehrer                       14\n",
       "Kaufmann                     13\n",
       "Juristin                     13\n",
       "Lehrerin                     13\n",
       "MdB                          12\n",
       "Politikwissenschaftlerin     11\n",
       "Politologin                   9\n",
       "Betriebswirtin                8\n",
       "Ingenieur                     7\n",
       "Volkswirtin                   7\n",
       "Politologe                    7\n",
       "Bankkaufmann                  6\n",
       "Verwaltungswirt               6\n",
       "Soldat                        6\n",
       "Name: count, dtype: int64"
      ]
     },
     "execution_count": 25,
     "metadata": {},
     "output_type": "execute_result"
    }
   ],
   "source": [
    "data[\"Beruflicher\\nHintergrund\"].value_counts().head(20)"
   ]
  },
  {
   "cell_type": "code",
   "execution_count": null,
   "metadata": {},
   "outputs": [],
   "source": [
    "#descriptive statistics of mebers of parliament, grouped by party"
   ]
  },
  {
   "cell_type": "code",
   "execution_count": 31,
   "metadata": {},
   "outputs": [],
   "source": [
    "data[\"Partei\"] = data[\"Fraktion oder Gruppe (Partei)\"].str.strip()"
   ]
  },
  {
   "cell_type": "code",
   "execution_count": 32,
   "metadata": {},
   "outputs": [],
   "source": [
    "data[\"Partei\"] = data[\"Partei\"].replace({\n",
    "    "CDU/CSU (CDU)": "CDU/CSU",\n",
    "    "CDU/CSU (CSU)": "CDU/CSU",\n",
    "})"
   ]
  },
  {
   "cell_type": "code",
   "execution_count": 37,
   "metadata": {},
   "outputs": [
    {
     "name": "stdout",
     "output_type": "stream",
     "text": [
      "                 Followers                                        Lebensdaten \n",
      "                      mean  median           std    min       max         mean\n",
      "Partei                                                                        \n",
      "(AfD)                  NaN     NaN           NaN    NaN       NaN          NaN\n",
      "(SSW)                  NaN     NaN           NaN    NaN       NaN          NaN\n",
      "AfD           10000.520548  1894.0  40682.417804   23.0  342000.0  1969.368421\n",
      "BSW           29337.500000  3091.0  82495.903579  247.0  264000.0  1973.500000\n",
      "CDU/CSU        6820.567708  2647.0  18213.563187  378.0  148000.0  1971.867347\n",
      "Die Linke     15530.074074  4567.0  35839.861629  287.0  171448.0  1969.250000\n",
      "FDP            9003.409091  2859.0  40568.539696  605.0  382000.0  1974.966667\n",
      "Grüne         19639.299145  3571.0  77442.243476  898.0  611000.0  1978.136752\n",
      "SPD            8438.558824  2530.0  30430.024152  338.0  335669.0  1974.705314\n",
      "fraktionslos   5678.111111  2204.0   8344.300681  259.0   26400.0  1971.555556\n"
     ]
    }
   ],
   "source": [
    "partei_stats = data.groupby(\"Partei\").agg({\n",
    "    \"Followers\": [\"mean\", \"median\", \"std\",\"min\",\"max\"],\n",
    "    \"Lebensdaten \": \"mean\",\n",
    "})\n",
    "print(partei_stats)"
   ]
  }
 ],
 "metadata": {
  "kernelspec": {
   "display_name": "Python 3",
   "language": "python",
   "name": "python3"
  },
  "language_info": {
   "codemirror_mode": {
    "name": "ipython",
    "version": 3
   },
   "file_extension": ".py",
   "mimetype": "text/x-python",
   "name": "python",
   "nbconvert_exporter": "python",
   "pygments_lexer": "ipython3",
   "version": "3.9.6"
  }
 },
 "nbformat": 4,
 "nbformat_minor": 2
}
